{
  "nbformat": 4,
  "nbformat_minor": 0,
  "metadata": {
    "colab": {
      "name": "Moringa_DS_Core_WEEK7_IP_January_2020",
      "provenance": [],
      "authorship_tag": "ABX9TyPt2JA2WDz4p7FhRnvignGt",
      "include_colab_link": true
    },
    "kernelspec": {
      "name": "python3",
      "display_name": "Python 3"
    }
  },
  "cells": [
    {
      "cell_type": "markdown",
      "metadata": {
        "id": "view-in-github",
        "colab_type": "text"
      },
      "source": [
        "<a href=\"https://colab.research.google.com/github/Machocho254/Hass-Consulting-House-Data/blob/master/Moringa_DS_Core_WEEK7_IP_January_2020.ipynb\" target=\"_parent\"><img src=\"https://colab.research.google.com/assets/colab-badge.svg\" alt=\"Open In Colab\"/></a>"
      ]
    },
    {
      "cell_type": "markdown",
      "metadata": {
        "id": "3sXWdNNfV3_i",
        "colab_type": "text"
      },
      "source": [
        "### a) **DEFINING THE QUESTION**\n",
        "\n",
        "\n"
      ]
    },
    {
      "cell_type": "markdown",
      "metadata": {
        "id": "AHkdD80WHGD_",
        "colab_type": "text"
      },
      "source": [
        "I work as a Data Scientist, for Hass Consulting Company which is a real estate leader with over 25 years of experience. I have been tasked to study the factors that affect housing prices using the given information on real estate properties that was collected over the past few months. Later onwards, I am to create a model that would allow the company to accurately predict the sale of prices upon being provided with the predictor variables. \n"
      ]
    },
    {
      "cell_type": "markdown",
      "metadata": {
        "id": "vS3VFQAwH0Qr",
        "colab_type": "text"
      },
      "source": [
        "### b) **Defining the Metric for Success**"
      ]
    },
    {
      "cell_type": "markdown",
      "metadata": {
        "id": "-BJ8ZmPAIC6v",
        "colab_type": "text"
      },
      "source": [
        "This project will be successful when:\n",
        "\n",
        "          1)We Identify the most crucial independent variables that affect house prices.\n",
        "\n",
        "          2)The Regression model achieves atleast 80% accuracy\n",
        "\n",
        "          3)Have the lowest RMSE score possible"
      ]
    },
    {
      "cell_type": "markdown",
      "metadata": {
        "id": "rduTp-nxJhtg",
        "colab_type": "text"
      },
      "source": [
        "### c) **Understanding the Context**"
      ]
    },
    {
      "cell_type": "markdown",
      "metadata": {
        "id": "2x7VXPUvJ11T",
        "colab_type": "text"
      },
      "source": [
        "HassConsult offers investment-grade developments all over the City. The developments we offer have been conceptualized by our development team to be high quality assets using a data-driven approach in planning and design, that gears property for high rental returns and an escalated rate of capital growth."
      ]
    },
    {
      "cell_type": "markdown",
      "metadata": {
        "id": "3sbYZ1A1KRQm",
        "colab_type": "text"
      },
      "source": [
        "### d) **Recording the Experimental Design**"
      ]
    },
    {
      "cell_type": "markdown",
      "metadata": {
        "id": "uLM_5OXCKeFT",
        "colab_type": "text"
      },
      "source": [
        "The project was carried out using the following design:\n",
        "\n",
        "Performing EDA\n",
        "\n",
        "Feature engineering\n",
        "\n",
        "Quantile Regression\n",
        "\n",
        "Ridge Regression\n",
        "\n",
        "Lasso Regression\n",
        "\n",
        "Elastic Net Regression\n",
        "\n",
        "Evaluation of the models\n",
        "\n",
        "Challenging the solutions\n"
      ]
    },
    {
      "cell_type": "markdown",
      "metadata": {
        "id": "1us_FKefQLJm",
        "colab_type": "text"
      },
      "source": [
        "### **IMPORTING ALL THE NECESSARY LIBRARIES**"
      ]
    },
    {
      "cell_type": "code",
      "metadata": {
        "id": "jcPdN_EkQIPm",
        "colab_type": "code",
        "colab": {}
      },
      "source": [
        "# Importing libraries\n",
        "\n",
        "# for data analysis and manipulation\n",
        "import pandas as pd\n",
        "import numpy as np\n",
        "\n",
        "# for data visualization\n",
        "import seaborn as sns\n",
        "import matplotlib.pyplot as plt\n",
        "import scipy as sp\n",
        "\n",
        "# for regression analysis\n",
        "from sklearn.preprocessing import StandardScaler, PolynomialFeatures\n",
        "from sklearn.model_selection import train_test_split, GridSearchCV, KFold, cross_val_score\n",
        "from sklearn.linear_model import LinearRegression, LogisticRegression\n",
        "from sklearn.metrics import mean_squared_error, accuracy_score, f1_score, confusion_matrix\n",
        "\n",
        "\n",
        "import requests\n",
        "from io import StringIO\n",
        "import datetime as dt\n",
        "%matplotlib inline\n",
        "import warnings\n",
        "warnings.filterwarnings('ignore')\n",
        "plt.style.use('ggplot')\n"
      ],
      "execution_count": 0,
      "outputs": []
    },
    {
      "cell_type": "markdown",
      "metadata": {
        "id": "nJ5fWdhEVu3p",
        "colab_type": "text"
      },
      "source": [
        "### **LOADING AND PREVIEW OF THE DATASET**"
      ]
    },
    {
      "cell_type": "code",
      "metadata": {
        "id": "GNMvGIIASRi0",
        "colab_type": "code",
        "outputId": "b6e30256-bbd3-4b99-ea08-b50de23a7064",
        "colab": {
          "base_uri": "https://localhost:8080/",
          "height": 224
        }
      },
      "source": [
        "# loading the dataset and previewing the first observations\n",
        "\n",
        "house = pd.read_csv('/content/Independent Project Week 7 - house_data.csv')\n",
        "house.head()"
      ],
      "execution_count": 168,
      "outputs": [
        {
          "output_type": "execute_result",
          "data": {
            "text/html": [
              "<div>\n",
              "<style scoped>\n",
              "    .dataframe tbody tr th:only-of-type {\n",
              "        vertical-align: middle;\n",
              "    }\n",
              "\n",
              "    .dataframe tbody tr th {\n",
              "        vertical-align: top;\n",
              "    }\n",
              "\n",
              "    .dataframe thead th {\n",
              "        text-align: right;\n",
              "    }\n",
              "</style>\n",
              "<table border=\"1\" class=\"dataframe\">\n",
              "  <thead>\n",
              "    <tr style=\"text-align: right;\">\n",
              "      <th></th>\n",
              "      <th>id</th>\n",
              "      <th>price</th>\n",
              "      <th>bedrooms</th>\n",
              "      <th>bathrooms</th>\n",
              "      <th>sqft_living</th>\n",
              "      <th>sqft_lot</th>\n",
              "      <th>floors</th>\n",
              "      <th>waterfront</th>\n",
              "      <th>view</th>\n",
              "      <th>condition</th>\n",
              "      <th>grade</th>\n",
              "      <th>sqft_above</th>\n",
              "      <th>sqft_basement</th>\n",
              "      <th>yr_built</th>\n",
              "      <th>yr_renovated</th>\n",
              "      <th>zipcode</th>\n",
              "      <th>lat</th>\n",
              "      <th>long</th>\n",
              "      <th>sqft_living15</th>\n",
              "      <th>sqft_lot15</th>\n",
              "    </tr>\n",
              "  </thead>\n",
              "  <tbody>\n",
              "    <tr>\n",
              "      <th>0</th>\n",
              "      <td>7129300520</td>\n",
              "      <td>221900.000</td>\n",
              "      <td>3</td>\n",
              "      <td>1.000</td>\n",
              "      <td>1180</td>\n",
              "      <td>5650</td>\n",
              "      <td>1.000</td>\n",
              "      <td>0</td>\n",
              "      <td>0</td>\n",
              "      <td>3</td>\n",
              "      <td>7</td>\n",
              "      <td>1180</td>\n",
              "      <td>0</td>\n",
              "      <td>1955</td>\n",
              "      <td>0</td>\n",
              "      <td>98178</td>\n",
              "      <td>47.511</td>\n",
              "      <td>-122.257</td>\n",
              "      <td>1340</td>\n",
              "      <td>5650</td>\n",
              "    </tr>\n",
              "    <tr>\n",
              "      <th>1</th>\n",
              "      <td>6414100192</td>\n",
              "      <td>538000.000</td>\n",
              "      <td>3</td>\n",
              "      <td>2.250</td>\n",
              "      <td>2570</td>\n",
              "      <td>7242</td>\n",
              "      <td>2.000</td>\n",
              "      <td>0</td>\n",
              "      <td>0</td>\n",
              "      <td>3</td>\n",
              "      <td>7</td>\n",
              "      <td>2170</td>\n",
              "      <td>400</td>\n",
              "      <td>1951</td>\n",
              "      <td>1991</td>\n",
              "      <td>98125</td>\n",
              "      <td>47.721</td>\n",
              "      <td>-122.319</td>\n",
              "      <td>1690</td>\n",
              "      <td>7639</td>\n",
              "    </tr>\n",
              "    <tr>\n",
              "      <th>2</th>\n",
              "      <td>5631500400</td>\n",
              "      <td>180000.000</td>\n",
              "      <td>2</td>\n",
              "      <td>1.000</td>\n",
              "      <td>770</td>\n",
              "      <td>10000</td>\n",
              "      <td>1.000</td>\n",
              "      <td>0</td>\n",
              "      <td>0</td>\n",
              "      <td>3</td>\n",
              "      <td>6</td>\n",
              "      <td>770</td>\n",
              "      <td>0</td>\n",
              "      <td>1933</td>\n",
              "      <td>0</td>\n",
              "      <td>98028</td>\n",
              "      <td>47.738</td>\n",
              "      <td>-122.233</td>\n",
              "      <td>2720</td>\n",
              "      <td>8062</td>\n",
              "    </tr>\n",
              "    <tr>\n",
              "      <th>3</th>\n",
              "      <td>2487200875</td>\n",
              "      <td>604000.000</td>\n",
              "      <td>4</td>\n",
              "      <td>3.000</td>\n",
              "      <td>1960</td>\n",
              "      <td>5000</td>\n",
              "      <td>1.000</td>\n",
              "      <td>0</td>\n",
              "      <td>0</td>\n",
              "      <td>5</td>\n",
              "      <td>7</td>\n",
              "      <td>1050</td>\n",
              "      <td>910</td>\n",
              "      <td>1965</td>\n",
              "      <td>0</td>\n",
              "      <td>98136</td>\n",
              "      <td>47.521</td>\n",
              "      <td>-122.393</td>\n",
              "      <td>1360</td>\n",
              "      <td>5000</td>\n",
              "    </tr>\n",
              "    <tr>\n",
              "      <th>4</th>\n",
              "      <td>1954400510</td>\n",
              "      <td>510000.000</td>\n",
              "      <td>3</td>\n",
              "      <td>2.000</td>\n",
              "      <td>1680</td>\n",
              "      <td>8080</td>\n",
              "      <td>1.000</td>\n",
              "      <td>0</td>\n",
              "      <td>0</td>\n",
              "      <td>3</td>\n",
              "      <td>8</td>\n",
              "      <td>1680</td>\n",
              "      <td>0</td>\n",
              "      <td>1987</td>\n",
              "      <td>0</td>\n",
              "      <td>98074</td>\n",
              "      <td>47.617</td>\n",
              "      <td>-122.045</td>\n",
              "      <td>1800</td>\n",
              "      <td>7503</td>\n",
              "    </tr>\n",
              "  </tbody>\n",
              "</table>\n",
              "</div>"
            ],
            "text/plain": [
              "           id      price  bedrooms  ...     long  sqft_living15  sqft_lot15\n",
              "0  7129300520 221900.000         3  ... -122.257           1340        5650\n",
              "1  6414100192 538000.000         3  ... -122.319           1690        7639\n",
              "2  5631500400 180000.000         2  ... -122.233           2720        8062\n",
              "3  2487200875 604000.000         4  ... -122.393           1360        5000\n",
              "4  1954400510 510000.000         3  ... -122.045           1800        7503\n",
              "\n",
              "[5 rows x 20 columns]"
            ]
          },
          "metadata": {
            "tags": []
          },
          "execution_count": 168
        }
      ]
    },
    {
      "cell_type": "code",
      "metadata": {
        "id": "9i3eLd5AVSXQ",
        "colab_type": "code",
        "outputId": "d51eb744-876f-48d4-f591-3f9a6a4a566d",
        "colab": {
          "base_uri": "https://localhost:8080/",
          "height": 224
        }
      },
      "source": [
        "# previewing the last observations of the data\n",
        "house.tail()"
      ],
      "execution_count": 169,
      "outputs": [
        {
          "output_type": "execute_result",
          "data": {
            "text/html": [
              "<div>\n",
              "<style scoped>\n",
              "    .dataframe tbody tr th:only-of-type {\n",
              "        vertical-align: middle;\n",
              "    }\n",
              "\n",
              "    .dataframe tbody tr th {\n",
              "        vertical-align: top;\n",
              "    }\n",
              "\n",
              "    .dataframe thead th {\n",
              "        text-align: right;\n",
              "    }\n",
              "</style>\n",
              "<table border=\"1\" class=\"dataframe\">\n",
              "  <thead>\n",
              "    <tr style=\"text-align: right;\">\n",
              "      <th></th>\n",
              "      <th>id</th>\n",
              "      <th>price</th>\n",
              "      <th>bedrooms</th>\n",
              "      <th>bathrooms</th>\n",
              "      <th>sqft_living</th>\n",
              "      <th>sqft_lot</th>\n",
              "      <th>floors</th>\n",
              "      <th>waterfront</th>\n",
              "      <th>view</th>\n",
              "      <th>condition</th>\n",
              "      <th>grade</th>\n",
              "      <th>sqft_above</th>\n",
              "      <th>sqft_basement</th>\n",
              "      <th>yr_built</th>\n",
              "      <th>yr_renovated</th>\n",
              "      <th>zipcode</th>\n",
              "      <th>lat</th>\n",
              "      <th>long</th>\n",
              "      <th>sqft_living15</th>\n",
              "      <th>sqft_lot15</th>\n",
              "    </tr>\n",
              "  </thead>\n",
              "  <tbody>\n",
              "    <tr>\n",
              "      <th>21608</th>\n",
              "      <td>263000018</td>\n",
              "      <td>360000.000</td>\n",
              "      <td>3</td>\n",
              "      <td>2.500</td>\n",
              "      <td>1530</td>\n",
              "      <td>1131</td>\n",
              "      <td>3.000</td>\n",
              "      <td>0</td>\n",
              "      <td>0</td>\n",
              "      <td>3</td>\n",
              "      <td>8</td>\n",
              "      <td>1530</td>\n",
              "      <td>0</td>\n",
              "      <td>2009</td>\n",
              "      <td>0</td>\n",
              "      <td>98103</td>\n",
              "      <td>47.699</td>\n",
              "      <td>-122.346</td>\n",
              "      <td>1530</td>\n",
              "      <td>1509</td>\n",
              "    </tr>\n",
              "    <tr>\n",
              "      <th>21609</th>\n",
              "      <td>6600060120</td>\n",
              "      <td>400000.000</td>\n",
              "      <td>4</td>\n",
              "      <td>2.500</td>\n",
              "      <td>2310</td>\n",
              "      <td>5813</td>\n",
              "      <td>2.000</td>\n",
              "      <td>0</td>\n",
              "      <td>0</td>\n",
              "      <td>3</td>\n",
              "      <td>8</td>\n",
              "      <td>2310</td>\n",
              "      <td>0</td>\n",
              "      <td>2014</td>\n",
              "      <td>0</td>\n",
              "      <td>98146</td>\n",
              "      <td>47.511</td>\n",
              "      <td>-122.362</td>\n",
              "      <td>1830</td>\n",
              "      <td>7200</td>\n",
              "    </tr>\n",
              "    <tr>\n",
              "      <th>21610</th>\n",
              "      <td>1523300141</td>\n",
              "      <td>402101.000</td>\n",
              "      <td>2</td>\n",
              "      <td>0.750</td>\n",
              "      <td>1020</td>\n",
              "      <td>1350</td>\n",
              "      <td>2.000</td>\n",
              "      <td>0</td>\n",
              "      <td>0</td>\n",
              "      <td>3</td>\n",
              "      <td>7</td>\n",
              "      <td>1020</td>\n",
              "      <td>0</td>\n",
              "      <td>2009</td>\n",
              "      <td>0</td>\n",
              "      <td>98144</td>\n",
              "      <td>47.594</td>\n",
              "      <td>-122.299</td>\n",
              "      <td>1020</td>\n",
              "      <td>2007</td>\n",
              "    </tr>\n",
              "    <tr>\n",
              "      <th>21611</th>\n",
              "      <td>291310100</td>\n",
              "      <td>400000.000</td>\n",
              "      <td>3</td>\n",
              "      <td>2.500</td>\n",
              "      <td>1600</td>\n",
              "      <td>2388</td>\n",
              "      <td>2.000</td>\n",
              "      <td>0</td>\n",
              "      <td>0</td>\n",
              "      <td>3</td>\n",
              "      <td>8</td>\n",
              "      <td>1600</td>\n",
              "      <td>0</td>\n",
              "      <td>2004</td>\n",
              "      <td>0</td>\n",
              "      <td>98027</td>\n",
              "      <td>47.535</td>\n",
              "      <td>-122.069</td>\n",
              "      <td>1410</td>\n",
              "      <td>1287</td>\n",
              "    </tr>\n",
              "    <tr>\n",
              "      <th>21612</th>\n",
              "      <td>1523300157</td>\n",
              "      <td>325000.000</td>\n",
              "      <td>2</td>\n",
              "      <td>0.750</td>\n",
              "      <td>1020</td>\n",
              "      <td>1076</td>\n",
              "      <td>2.000</td>\n",
              "      <td>0</td>\n",
              "      <td>0</td>\n",
              "      <td>3</td>\n",
              "      <td>7</td>\n",
              "      <td>1020</td>\n",
              "      <td>0</td>\n",
              "      <td>2008</td>\n",
              "      <td>0</td>\n",
              "      <td>98144</td>\n",
              "      <td>47.594</td>\n",
              "      <td>-122.299</td>\n",
              "      <td>1020</td>\n",
              "      <td>1357</td>\n",
              "    </tr>\n",
              "  </tbody>\n",
              "</table>\n",
              "</div>"
            ],
            "text/plain": [
              "               id      price  bedrooms  ...     long  sqft_living15  sqft_lot15\n",
              "21608   263000018 360000.000         3  ... -122.346           1530        1509\n",
              "21609  6600060120 400000.000         4  ... -122.362           1830        7200\n",
              "21610  1523300141 402101.000         2  ... -122.299           1020        2007\n",
              "21611   291310100 400000.000         3  ... -122.069           1410        1287\n",
              "21612  1523300157 325000.000         2  ... -122.299           1020        1357\n",
              "\n",
              "[5 rows x 20 columns]"
            ]
          },
          "metadata": {
            "tags": []
          },
          "execution_count": 169
        }
      ]
    },
    {
      "cell_type": "code",
      "metadata": {
        "id": "zHvN20tUS570",
        "colab_type": "code",
        "outputId": "c5200984-18e0-408d-c130-bdf7a5acfaf7",
        "colab": {
          "base_uri": "https://localhost:8080/",
          "height": 442
        }
      },
      "source": [
        "# information about the dataset\n",
        "\n",
        "house.info()"
      ],
      "execution_count": 170,
      "outputs": [
        {
          "output_type": "stream",
          "text": [
            "<class 'pandas.core.frame.DataFrame'>\n",
            "RangeIndex: 21613 entries, 0 to 21612\n",
            "Data columns (total 20 columns):\n",
            "id               21613 non-null int64\n",
            "price            21613 non-null float64\n",
            "bedrooms         21613 non-null int64\n",
            "bathrooms        21613 non-null float64\n",
            "sqft_living      21613 non-null int64\n",
            "sqft_lot         21613 non-null int64\n",
            "floors           21613 non-null float64\n",
            "waterfront       21613 non-null int64\n",
            "view             21613 non-null int64\n",
            "condition        21613 non-null int64\n",
            "grade            21613 non-null int64\n",
            "sqft_above       21613 non-null int64\n",
            "sqft_basement    21613 non-null int64\n",
            "yr_built         21613 non-null int64\n",
            "yr_renovated     21613 non-null int64\n",
            "zipcode          21613 non-null int64\n",
            "lat              21613 non-null float64\n",
            "long             21613 non-null float64\n",
            "sqft_living15    21613 non-null int64\n",
            "sqft_lot15       21613 non-null int64\n",
            "dtypes: float64(5), int64(15)\n",
            "memory usage: 3.3 MB\n"
          ],
          "name": "stdout"
        }
      ]
    },
    {
      "cell_type": "code",
      "metadata": {
        "id": "r46s8AZhTKLh",
        "colab_type": "code",
        "outputId": "7a508e05-1019-4b3d-9c8f-45bd6114fdfc",
        "colab": {
          "base_uri": "https://localhost:8080/",
          "height": 317
        }
      },
      "source": [
        "# getting description about the data\n",
        "\n",
        "house.describe()"
      ],
      "execution_count": 171,
      "outputs": [
        {
          "output_type": "execute_result",
          "data": {
            "text/html": [
              "<div>\n",
              "<style scoped>\n",
              "    .dataframe tbody tr th:only-of-type {\n",
              "        vertical-align: middle;\n",
              "    }\n",
              "\n",
              "    .dataframe tbody tr th {\n",
              "        vertical-align: top;\n",
              "    }\n",
              "\n",
              "    .dataframe thead th {\n",
              "        text-align: right;\n",
              "    }\n",
              "</style>\n",
              "<table border=\"1\" class=\"dataframe\">\n",
              "  <thead>\n",
              "    <tr style=\"text-align: right;\">\n",
              "      <th></th>\n",
              "      <th>id</th>\n",
              "      <th>price</th>\n",
              "      <th>bedrooms</th>\n",
              "      <th>bathrooms</th>\n",
              "      <th>sqft_living</th>\n",
              "      <th>sqft_lot</th>\n",
              "      <th>floors</th>\n",
              "      <th>waterfront</th>\n",
              "      <th>view</th>\n",
              "      <th>condition</th>\n",
              "      <th>grade</th>\n",
              "      <th>sqft_above</th>\n",
              "      <th>sqft_basement</th>\n",
              "      <th>yr_built</th>\n",
              "      <th>yr_renovated</th>\n",
              "      <th>zipcode</th>\n",
              "      <th>lat</th>\n",
              "      <th>long</th>\n",
              "      <th>sqft_living15</th>\n",
              "      <th>sqft_lot15</th>\n",
              "    </tr>\n",
              "  </thead>\n",
              "  <tbody>\n",
              "    <tr>\n",
              "      <th>count</th>\n",
              "      <td>21613.000</td>\n",
              "      <td>21613.000</td>\n",
              "      <td>21613.000</td>\n",
              "      <td>21613.000</td>\n",
              "      <td>21613.000</td>\n",
              "      <td>21613.000</td>\n",
              "      <td>21613.000</td>\n",
              "      <td>21613.000</td>\n",
              "      <td>21613.000</td>\n",
              "      <td>21613.000</td>\n",
              "      <td>21613.000</td>\n",
              "      <td>21613.000</td>\n",
              "      <td>21613.000</td>\n",
              "      <td>21613.000</td>\n",
              "      <td>21613.000</td>\n",
              "      <td>21613.000</td>\n",
              "      <td>21613.000</td>\n",
              "      <td>21613.000</td>\n",
              "      <td>21613.000</td>\n",
              "      <td>21613.000</td>\n",
              "    </tr>\n",
              "    <tr>\n",
              "      <th>mean</th>\n",
              "      <td>4580301520.865</td>\n",
              "      <td>540182.159</td>\n",
              "      <td>3.371</td>\n",
              "      <td>2.115</td>\n",
              "      <td>2079.900</td>\n",
              "      <td>15106.968</td>\n",
              "      <td>1.494</td>\n",
              "      <td>0.008</td>\n",
              "      <td>0.234</td>\n",
              "      <td>3.409</td>\n",
              "      <td>7.657</td>\n",
              "      <td>1788.391</td>\n",
              "      <td>291.509</td>\n",
              "      <td>1971.005</td>\n",
              "      <td>84.402</td>\n",
              "      <td>98077.940</td>\n",
              "      <td>47.560</td>\n",
              "      <td>-122.214</td>\n",
              "      <td>1986.552</td>\n",
              "      <td>12768.456</td>\n",
              "    </tr>\n",
              "    <tr>\n",
              "      <th>std</th>\n",
              "      <td>2876565571.312</td>\n",
              "      <td>367362.232</td>\n",
              "      <td>0.930</td>\n",
              "      <td>0.770</td>\n",
              "      <td>918.441</td>\n",
              "      <td>41420.512</td>\n",
              "      <td>0.540</td>\n",
              "      <td>0.087</td>\n",
              "      <td>0.766</td>\n",
              "      <td>0.651</td>\n",
              "      <td>1.175</td>\n",
              "      <td>828.091</td>\n",
              "      <td>442.575</td>\n",
              "      <td>29.373</td>\n",
              "      <td>401.679</td>\n",
              "      <td>53.505</td>\n",
              "      <td>0.139</td>\n",
              "      <td>0.141</td>\n",
              "      <td>685.391</td>\n",
              "      <td>27304.180</td>\n",
              "    </tr>\n",
              "    <tr>\n",
              "      <th>min</th>\n",
              "      <td>1000102.000</td>\n",
              "      <td>75000.000</td>\n",
              "      <td>0.000</td>\n",
              "      <td>0.000</td>\n",
              "      <td>290.000</td>\n",
              "      <td>520.000</td>\n",
              "      <td>1.000</td>\n",
              "      <td>0.000</td>\n",
              "      <td>0.000</td>\n",
              "      <td>1.000</td>\n",
              "      <td>1.000</td>\n",
              "      <td>290.000</td>\n",
              "      <td>0.000</td>\n",
              "      <td>1900.000</td>\n",
              "      <td>0.000</td>\n",
              "      <td>98001.000</td>\n",
              "      <td>47.156</td>\n",
              "      <td>-122.519</td>\n",
              "      <td>399.000</td>\n",
              "      <td>651.000</td>\n",
              "    </tr>\n",
              "    <tr>\n",
              "      <th>25%</th>\n",
              "      <td>2123049194.000</td>\n",
              "      <td>321950.000</td>\n",
              "      <td>3.000</td>\n",
              "      <td>1.750</td>\n",
              "      <td>1427.000</td>\n",
              "      <td>5040.000</td>\n",
              "      <td>1.000</td>\n",
              "      <td>0.000</td>\n",
              "      <td>0.000</td>\n",
              "      <td>3.000</td>\n",
              "      <td>7.000</td>\n",
              "      <td>1190.000</td>\n",
              "      <td>0.000</td>\n",
              "      <td>1951.000</td>\n",
              "      <td>0.000</td>\n",
              "      <td>98033.000</td>\n",
              "      <td>47.471</td>\n",
              "      <td>-122.328</td>\n",
              "      <td>1490.000</td>\n",
              "      <td>5100.000</td>\n",
              "    </tr>\n",
              "    <tr>\n",
              "      <th>50%</th>\n",
              "      <td>3904930410.000</td>\n",
              "      <td>450000.000</td>\n",
              "      <td>3.000</td>\n",
              "      <td>2.250</td>\n",
              "      <td>1910.000</td>\n",
              "      <td>7618.000</td>\n",
              "      <td>1.500</td>\n",
              "      <td>0.000</td>\n",
              "      <td>0.000</td>\n",
              "      <td>3.000</td>\n",
              "      <td>7.000</td>\n",
              "      <td>1560.000</td>\n",
              "      <td>0.000</td>\n",
              "      <td>1975.000</td>\n",
              "      <td>0.000</td>\n",
              "      <td>98065.000</td>\n",
              "      <td>47.572</td>\n",
              "      <td>-122.230</td>\n",
              "      <td>1840.000</td>\n",
              "      <td>7620.000</td>\n",
              "    </tr>\n",
              "    <tr>\n",
              "      <th>75%</th>\n",
              "      <td>7308900445.000</td>\n",
              "      <td>645000.000</td>\n",
              "      <td>4.000</td>\n",
              "      <td>2.500</td>\n",
              "      <td>2550.000</td>\n",
              "      <td>10688.000</td>\n",
              "      <td>2.000</td>\n",
              "      <td>0.000</td>\n",
              "      <td>0.000</td>\n",
              "      <td>4.000</td>\n",
              "      <td>8.000</td>\n",
              "      <td>2210.000</td>\n",
              "      <td>560.000</td>\n",
              "      <td>1997.000</td>\n",
              "      <td>0.000</td>\n",
              "      <td>98118.000</td>\n",
              "      <td>47.678</td>\n",
              "      <td>-122.125</td>\n",
              "      <td>2360.000</td>\n",
              "      <td>10083.000</td>\n",
              "    </tr>\n",
              "    <tr>\n",
              "      <th>max</th>\n",
              "      <td>9900000190.000</td>\n",
              "      <td>7700000.000</td>\n",
              "      <td>33.000</td>\n",
              "      <td>8.000</td>\n",
              "      <td>13540.000</td>\n",
              "      <td>1651359.000</td>\n",
              "      <td>3.500</td>\n",
              "      <td>1.000</td>\n",
              "      <td>4.000</td>\n",
              "      <td>5.000</td>\n",
              "      <td>13.000</td>\n",
              "      <td>9410.000</td>\n",
              "      <td>4820.000</td>\n",
              "      <td>2015.000</td>\n",
              "      <td>2015.000</td>\n",
              "      <td>98199.000</td>\n",
              "      <td>47.778</td>\n",
              "      <td>-121.315</td>\n",
              "      <td>6210.000</td>\n",
              "      <td>871200.000</td>\n",
              "    </tr>\n",
              "  </tbody>\n",
              "</table>\n",
              "</div>"
            ],
            "text/plain": [
              "                  id       price  bedrooms  ...      long  sqft_living15  sqft_lot15\n",
              "count      21613.000   21613.000 21613.000  ... 21613.000      21613.000   21613.000\n",
              "mean  4580301520.865  540182.159     3.371  ...  -122.214       1986.552   12768.456\n",
              "std   2876565571.312  367362.232     0.930  ...     0.141        685.391   27304.180\n",
              "min      1000102.000   75000.000     0.000  ...  -122.519        399.000     651.000\n",
              "25%   2123049194.000  321950.000     3.000  ...  -122.328       1490.000    5100.000\n",
              "50%   3904930410.000  450000.000     3.000  ...  -122.230       1840.000    7620.000\n",
              "75%   7308900445.000  645000.000     4.000  ...  -122.125       2360.000   10083.000\n",
              "max   9900000190.000 7700000.000    33.000  ...  -121.315       6210.000  871200.000\n",
              "\n",
              "[8 rows x 20 columns]"
            ]
          },
          "metadata": {
            "tags": []
          },
          "execution_count": 171
        }
      ]
    },
    {
      "cell_type": "code",
      "metadata": {
        "id": "h5ODDqP-UmYt",
        "colab_type": "code",
        "outputId": "99144dea-8a3a-432a-bab5-1483daa6c2cd",
        "colab": {
          "base_uri": "https://localhost:8080/",
          "height": 34
        }
      },
      "source": [
        "# to get the number of rows and columns\n",
        "\n",
        "house.shape"
      ],
      "execution_count": 172,
      "outputs": [
        {
          "output_type": "execute_result",
          "data": {
            "text/plain": [
              "(21613, 20)"
            ]
          },
          "metadata": {
            "tags": []
          },
          "execution_count": 172
        }
      ]
    },
    {
      "cell_type": "markdown",
      "metadata": {
        "id": "TqmtFBiqUvVB",
        "colab_type": "text"
      },
      "source": [
        "THe data has 20 variables and 21613 observations"
      ]
    },
    {
      "cell_type": "markdown",
      "metadata": {
        "id": "Ok2OwzD7Vlrt",
        "colab_type": "text"
      },
      "source": [
        "### **DATA CLEANING**"
      ]
    },
    {
      "cell_type": "code",
      "metadata": {
        "id": "kGtw-3i3TWFa",
        "colab_type": "code",
        "outputId": "f5e126c2-8cbe-42da-a1af-d93b17b416c3",
        "colab": {
          "base_uri": "https://localhost:8080/",
          "height": 374
        }
      },
      "source": [
        "# checking for missing values\n",
        "\n",
        "house.isnull().sum()"
      ],
      "execution_count": 173,
      "outputs": [
        {
          "output_type": "execute_result",
          "data": {
            "text/plain": [
              "id               0\n",
              "price            0\n",
              "bedrooms         0\n",
              "bathrooms        0\n",
              "sqft_living      0\n",
              "sqft_lot         0\n",
              "floors           0\n",
              "waterfront       0\n",
              "view             0\n",
              "condition        0\n",
              "grade            0\n",
              "sqft_above       0\n",
              "sqft_basement    0\n",
              "yr_built         0\n",
              "yr_renovated     0\n",
              "zipcode          0\n",
              "lat              0\n",
              "long             0\n",
              "sqft_living15    0\n",
              "sqft_lot15       0\n",
              "dtype: int64"
            ]
          },
          "metadata": {
            "tags": []
          },
          "execution_count": 173
        }
      ]
    },
    {
      "cell_type": "markdown",
      "metadata": {
        "id": "NYLcTBgHTfSm",
        "colab_type": "text"
      },
      "source": [
        "The data has no missing values. "
      ]
    },
    {
      "cell_type": "code",
      "metadata": {
        "id": "4zbeIcozTill",
        "colab_type": "code",
        "outputId": "9cd2a52d-c9e0-4867-d5b7-ce0c377dc887",
        "colab": {
          "base_uri": "https://localhost:8080/",
          "height": 34
        }
      },
      "source": [
        "# checking for duplicates\n",
        "\n",
        "house.duplicated().any()"
      ],
      "execution_count": 174,
      "outputs": [
        {
          "output_type": "execute_result",
          "data": {
            "text/plain": [
              "True"
            ]
          },
          "metadata": {
            "tags": []
          },
          "execution_count": 174
        }
      ]
    },
    {
      "cell_type": "code",
      "metadata": {
        "id": "3Av-ZIrTTySh",
        "colab_type": "code",
        "colab": {}
      },
      "source": [
        "# removing the duplicates\n",
        "\n",
        "house.drop_duplicates(keep='first', inplace = True)"
      ],
      "execution_count": 0,
      "outputs": []
    },
    {
      "cell_type": "code",
      "metadata": {
        "id": "ZPCcnn59T-_S",
        "colab_type": "code",
        "outputId": "b83b6fee-e1e4-43ff-92a2-cda994b3c8e6",
        "colab": {
          "base_uri": "https://localhost:8080/",
          "height": 34
        }
      },
      "source": [
        "# checking whether the duplicates have been dropped\n",
        "\n",
        "house.duplicated().any()\n",
        "\n",
        "# duplicates have been dropped."
      ],
      "execution_count": 176,
      "outputs": [
        {
          "output_type": "execute_result",
          "data": {
            "text/plain": [
              "False"
            ]
          },
          "metadata": {
            "tags": []
          },
          "execution_count": 176
        }
      ]
    },
    {
      "cell_type": "markdown",
      "metadata": {
        "id": "C3etTV2vWWgN",
        "colab_type": "text"
      },
      "source": [
        "#### **Outlier Management**"
      ]
    },
    {
      "cell_type": "code",
      "metadata": {
        "id": "jDYqu7K1b-84",
        "colab_type": "code",
        "outputId": "a4e49613-5f29-4eda-e991-f6a55448ff47",
        "colab": {
          "base_uri": "https://localhost:8080/",
          "height": 102
        }
      },
      "source": [
        "# GETTing the column names \n",
        "\n",
        "house.columns"
      ],
      "execution_count": 177,
      "outputs": [
        {
          "output_type": "execute_result",
          "data": {
            "text/plain": [
              "Index(['id', 'price', 'bedrooms', 'bathrooms', 'sqft_living', 'sqft_lot',\n",
              "       'floors', 'waterfront', 'view', 'condition', 'grade', 'sqft_above',\n",
              "       'sqft_basement', 'yr_built', 'yr_renovated', 'zipcode', 'lat', 'long',\n",
              "       'sqft_living15', 'sqft_lot15'],\n",
              "      dtype='object')"
            ]
          },
          "metadata": {
            "tags": []
          },
          "execution_count": 177
        }
      ]
    },
    {
      "cell_type": "code",
      "metadata": {
        "id": "7pjxsvSfcipe",
        "colab_type": "code",
        "outputId": "23286705-fb20-4fea-eba6-ad4fda343530",
        "colab": {
          "base_uri": "https://localhost:8080/",
          "height": 1000
        }
      },
      "source": [
        "# getting the outliers using boxplots\n",
        "# \n",
        "def plot_boxplots(target_dataframe,col_names):\n",
        "    fig, ax = plt.subplots(len(col_names), figsize=(15,100))\n",
        "    for i, column_name in enumerate(col_names):\n",
        "        sns.boxplot(y=target_dataframe[column_name], ax=ax[i])\n",
        "        ax[i].set_title('Box plot - {}'.format(column_name), fontsize=10)\n",
        "        ax[i].set_xlabel(column_name, fontsize=8)\n",
        "    plt.show()\n",
        "\n",
        "#Execute the function\n",
        "# \n",
        "col_names = house.columns\n",
        "target_dataframe = house\n",
        "plot_boxplots(target_dataframe,col_names)"
      ],
      "execution_count": 178,
      "outputs": [
        {
          "output_type": "display_data",
          "data": {
            "image/png": "[encoded data removed]",
            "text/plain": [
              "<Figure size 1080x7200 with 20 Axes>"
            ]
          },
          "metadata": {
            "tags": []
          }
        }
      ]
    },
    {
      "cell_type": "code",
      "metadata": {
        "id": "4L7xMzIHnkEu",
        "colab_type": "code",
        "colab": {}
      },
      "source": [
        "# dropping the outliers\n",
        "\n",
        "outliers = house[(house['bedrooms'] > 30) | (house['sqft_living'] > 11000) | (house['sqft_lot'] > 1250000) | (house['sqft_basement'] > 4000) | (house['sqft_lot15'] > 300000)].index\n",
        "df = house.drop(outliers)"
      ],
      "execution_count": 0,
      "outputs": []
    },
    {
      "cell_type": "code",
      "metadata": {
        "id": "30lAJTcs1EQA",
        "colab_type": "code",
        "colab": {
          "base_uri": "https://localhost:8080/",
          "height": 442
        },
        "outputId": "af8998cd-48b5-4b91-f319-fdb23382c837"
      },
      "source": [
        "df.info()"
      ],
      "execution_count": 180,
      "outputs": [
        {
          "output_type": "stream",
          "text": [
            "<class 'pandas.core.frame.DataFrame'>\n",
            "Int64Index: 21584 entries, 0 to 21612\n",
            "Data columns (total 20 columns):\n",
            "id               21584 non-null int64\n",
            "price            21584 non-null float64\n",
            "bedrooms         21584 non-null int64\n",
            "bathrooms        21584 non-null float64\n",
            "sqft_living      21584 non-null int64\n",
            "sqft_lot         21584 non-null int64\n",
            "floors           21584 non-null float64\n",
            "waterfront       21584 non-null int64\n",
            "view             21584 non-null int64\n",
            "condition        21584 non-null int64\n",
            "grade            21584 non-null int64\n",
            "sqft_above       21584 non-null int64\n",
            "sqft_basement    21584 non-null int64\n",
            "yr_built         21584 non-null int64\n",
            "yr_renovated     21584 non-null int64\n",
            "zipcode          21584 non-null int64\n",
            "lat              21584 non-null float64\n",
            "long             21584 non-null float64\n",
            "sqft_living15    21584 non-null int64\n",
            "sqft_lot15       21584 non-null int64\n",
            "dtypes: float64(5), int64(15)\n",
            "memory usage: 3.5 MB\n"
          ],
          "name": "stdout"
        }
      ]
    },
    {
      "cell_type": "markdown",
      "metadata": {
        "id": "fqDma1BeRm1l",
        "colab_type": "text"
      },
      "source": [
        "### **Checking for the unique values**\n",
        "\n",
        "More steps into data reading and understading by lookin at the unique values and getting more insight about the data. "
      ]
    },
    {
      "cell_type": "code",
      "metadata": {
        "id": "2UO-GqDYoP10",
        "colab_type": "code",
        "outputId": "3fd5a84a-bd34-445d-f688-ccf76e39780e",
        "colab": {
          "base_uri": "https://localhost:8080/",
          "height": 34
        }
      },
      "source": [
        "# finding unque values for bedrooms\n",
        "# \n",
        "df.bedrooms.unique()"
      ],
      "execution_count": 181,
      "outputs": [
        {
          "output_type": "execute_result",
          "data": {
            "text/plain": [
              "array([ 3,  2,  4,  5,  1,  6,  7,  0,  8,  9, 11, 10])"
            ]
          },
          "metadata": {
            "tags": []
          },
          "execution_count": 181
        }
      ]
    },
    {
      "cell_type": "code",
      "metadata": {
        "id": "qaqOqwDJTnKu",
        "colab_type": "code",
        "outputId": "76eda040-a8d2-4849-fa77-6909bb179b5c",
        "colab": {
          "base_uri": "https://localhost:8080/",
          "height": 68
        }
      },
      "source": [
        "# finidng the unique values for bathroom\n",
        "# \n",
        "df.bathrooms.unique()"
      ],
      "execution_count": 182,
      "outputs": [
        {
          "output_type": "execute_result",
          "data": {
            "text/plain": [
              "array([1.  , 2.25, 3.  , 2.  , 4.5 , 1.5 , 2.5 , 1.75, 2.75, 3.25, 4.  ,\n",
              "       3.5 , 0.75, 4.75, 5.  , 4.25, 3.75, 0.  , 1.25, 5.25, 6.  , 0.5 ,\n",
              "       5.5 , 6.75, 5.75, 7.5 , 7.75, 6.25, 6.5 ])"
            ]
          },
          "metadata": {
            "tags": []
          },
          "execution_count": 182
        }
      ]
    },
    {
      "cell_type": "code",
      "metadata": {
        "id": "A2CpclWt6F9s",
        "colab_type": "code",
        "colab": {}
      },
      "source": [
        "# change the categorical features to the correct data types\n",
        "# name the features that are categorical\n",
        "# \n",
        "cat_cols = ['waterfront', 'grade', 'view', 'condition']\n",
        "\n",
        "# use a for loop to change the datatypes to categorical\n",
        "# \n",
        "for col in cat_cols:\n",
        "  df[col] = df[col].astype('category')"
      ],
      "execution_count": 0,
      "outputs": []
    },
    {
      "cell_type": "markdown",
      "metadata": {
        "id": "4MBCRSqdnGxl",
        "colab_type": "text"
      },
      "source": [
        "## **EXPLORATORY DATA ANALYSIS**"
      ]
    },
    {
      "cell_type": "markdown",
      "metadata": {
        "id": "ohMnn-asT9mA",
        "colab_type": "text"
      },
      "source": [
        "### **UNIVARIATE ANALYSIS**\n",
        "\n",
        "To get the measures of central tendencies and measures of dispersion (spread)\n",
        "\n",
        "To get:\n",
        "\n",
        "\n",
        "1.   Mean\n",
        "2.   Mode\n",
        "3.   Median\n",
        "4.   Variance\n",
        "5.   Standard deviation\n",
        "\n",
        "Using the describe() function to find the mean, median, standard deviation and variance of the data. \n",
        "\n"
      ]
    },
    {
      "cell_type": "markdown",
      "metadata": {
        "id": "v3kCt8Jl2ZYB",
        "colab_type": "text"
      },
      "source": [
        "#### **Arithmetic mean of each column**"
      ]
    },
    {
      "cell_type": "code",
      "metadata": {
        "id": "BTP6Bdk7k-p6",
        "colab_type": "code",
        "outputId": "27ee55a8-49c6-4a9e-cfec-099129af8985",
        "colab": {
          "base_uri": "https://localhost:8080/",
          "height": 136
        }
      },
      "source": [
        "# finding the mean for the columns\n",
        "\n",
        "from statistics import mean, median, mode, stdev\n",
        "\n",
        "print (\"The mean of the price is \", df['price'].mean())\n",
        "\n",
        "print (\"The mean of the bedrooms is \", df['bedrooms'].mean())\n",
        "\n",
        "print (\"The mean of the bathrooms is \", df['bathrooms'].mean())\n",
        "\n",
        "print (\"The mean of the Square feet of living room is \", df['sqft_living'].mean())\n",
        "\n",
        "print (\"The mean of the Squarefeet of parking lot is \", df['sqft_lot'].mean())\n",
        "\n",
        "print (\"The mean of the Squarefeet of above floor is \", df['sqft_above'].mean())\n",
        "\n",
        "print (\"The mean of the size of baseent in squarefeet is \", df['sqft_basement'].mean())\n",
        "# df[''].mean()"
      ],
      "execution_count": 184,
      "outputs": [
        {
          "output_type": "stream",
          "text": [
            "The mean of the price is  539443.7336916234\n",
            "The mean of the bedrooms is  3.3692550037064493\n",
            "The mean of the bathrooms is  2.113718495181616\n",
            "The mean of the Square feet of living room is  2077.787203484062\n",
            "The mean of the Squarefeet of parking lot is  14695.999722016308\n",
            "The mean of the Squarefeet of above floor is  1786.8056893995551\n",
            "The mean of the size of baseent in squarefeet is  290.98151408450707\n"
          ],
          "name": "stdout"
        }
      ]
    },
    {
      "cell_type": "markdown",
      "metadata": {
        "id": "aQ-Ff9Sk2hqk",
        "colab_type": "text"
      },
      "source": [
        "#### **Median of each column**"
      ]
    },
    {
      "cell_type": "code",
      "metadata": {
        "id": "DUhWPXClqdAg",
        "colab_type": "code",
        "outputId": "8192acd1-de9f-4052-86f9-7c31b669a94d",
        "colab": {
          "base_uri": "https://localhost:8080/",
          "height": 136
        }
      },
      "source": [
        "# to find the median of the dataframe\n",
        "\n",
        "print (\"The median of the price is \", df['price'].median())\n",
        "\n",
        "print (\"The median of the bedrooms is \", df['bedrooms'].median())\n",
        "\n",
        "print (\"The median of the bathrooms is \", df['bathrooms'].median())\n",
        "\n",
        "print (\"The median of the Square feet of living room is \", df['sqft_living'].median())\n",
        "\n",
        "print (\"The median of the Squarefeet of parking lot is \", df['sqft_lot'].median())\n",
        "\n",
        "# print (\"The median of the Grade is \", df['grade'].median())\n",
        "\n",
        "print (\"The median of the Squarefeet of above floor is \", df['sqft_above'].median())\n",
        "\n",
        "print (\"The median of the size of baseent in squarefeet is \", df['sqft_basement'].median())"
      ],
      "execution_count": 185,
      "outputs": [
        {
          "output_type": "stream",
          "text": [
            "The median of the price is  450000.0\n",
            "The median of the bedrooms is  3.0\n",
            "The median of the bathrooms is  2.25\n",
            "The median of the Square feet of living room is  1910.0\n",
            "The median of the Squarefeet of parking lot is  7613.5\n",
            "The median of the Squarefeet of above floor is  1560.0\n",
            "The median of the size of baseent in squarefeet is  0.0\n"
          ],
          "name": "stdout"
        }
      ]
    },
    {
      "cell_type": "code",
      "metadata": {
        "id": "OZLkpJhqqvvs",
        "colab_type": "code",
        "outputId": "46a8bcf9-2aca-4f4c-e3ef-1f9a944151d4",
        "colab": {
          "base_uri": "https://localhost:8080/",
          "height": 193
        }
      },
      "source": [
        "# mode of the dataframe\n",
        "\n",
        "df.mode()"
      ],
      "execution_count": 186,
      "outputs": [
        {
          "output_type": "execute_result",
          "data": {
            "text/html": [
              "<div>\n",
              "<style scoped>\n",
              "    .dataframe tbody tr th:only-of-type {\n",
              "        vertical-align: middle;\n",
              "    }\n",
              "\n",
              "    .dataframe tbody tr th {\n",
              "        vertical-align: top;\n",
              "    }\n",
              "\n",
              "    .dataframe thead th {\n",
              "        text-align: right;\n",
              "    }\n",
              "</style>\n",
              "<table border=\"1\" class=\"dataframe\">\n",
              "  <thead>\n",
              "    <tr style=\"text-align: right;\">\n",
              "      <th></th>\n",
              "      <th>id</th>\n",
              "      <th>price</th>\n",
              "      <th>bedrooms</th>\n",
              "      <th>bathrooms</th>\n",
              "      <th>sqft_living</th>\n",
              "      <th>sqft_lot</th>\n",
              "      <th>floors</th>\n",
              "      <th>waterfront</th>\n",
              "      <th>view</th>\n",
              "      <th>condition</th>\n",
              "      <th>grade</th>\n",
              "      <th>sqft_above</th>\n",
              "      <th>sqft_basement</th>\n",
              "      <th>yr_built</th>\n",
              "      <th>yr_renovated</th>\n",
              "      <th>zipcode</th>\n",
              "      <th>lat</th>\n",
              "      <th>long</th>\n",
              "      <th>sqft_living15</th>\n",
              "      <th>sqft_lot15</th>\n",
              "    </tr>\n",
              "  </thead>\n",
              "  <tbody>\n",
              "    <tr>\n",
              "      <th>0</th>\n",
              "      <td>795000620.000</td>\n",
              "      <td>350000.000</td>\n",
              "      <td>3.000</td>\n",
              "      <td>2.500</td>\n",
              "      <td>1300.000</td>\n",
              "      <td>5000.000</td>\n",
              "      <td>1.000</td>\n",
              "      <td>0</td>\n",
              "      <td>0</td>\n",
              "      <td>3</td>\n",
              "      <td>7</td>\n",
              "      <td>1300.000</td>\n",
              "      <td>0.000</td>\n",
              "      <td>2014.000</td>\n",
              "      <td>0.000</td>\n",
              "      <td>98103.000</td>\n",
              "      <td>47.532</td>\n",
              "      <td>-122.290</td>\n",
              "      <td>1540.000</td>\n",
              "      <td>5000.000</td>\n",
              "    </tr>\n",
              "    <tr>\n",
              "      <th>1</th>\n",
              "      <td>nan</td>\n",
              "      <td>450000.000</td>\n",
              "      <td>nan</td>\n",
              "      <td>nan</td>\n",
              "      <td>nan</td>\n",
              "      <td>nan</td>\n",
              "      <td>nan</td>\n",
              "      <td>NaN</td>\n",
              "      <td>NaN</td>\n",
              "      <td>NaN</td>\n",
              "      <td>NaN</td>\n",
              "      <td>nan</td>\n",
              "      <td>nan</td>\n",
              "      <td>nan</td>\n",
              "      <td>nan</td>\n",
              "      <td>nan</td>\n",
              "      <td>47.549</td>\n",
              "      <td>nan</td>\n",
              "      <td>nan</td>\n",
              "      <td>nan</td>\n",
              "    </tr>\n",
              "    <tr>\n",
              "      <th>2</th>\n",
              "      <td>nan</td>\n",
              "      <td>nan</td>\n",
              "      <td>nan</td>\n",
              "      <td>nan</td>\n",
              "      <td>nan</td>\n",
              "      <td>nan</td>\n",
              "      <td>nan</td>\n",
              "      <td>NaN</td>\n",
              "      <td>NaN</td>\n",
              "      <td>NaN</td>\n",
              "      <td>NaN</td>\n",
              "      <td>nan</td>\n",
              "      <td>nan</td>\n",
              "      <td>nan</td>\n",
              "      <td>nan</td>\n",
              "      <td>nan</td>\n",
              "      <td>47.662</td>\n",
              "      <td>nan</td>\n",
              "      <td>nan</td>\n",
              "      <td>nan</td>\n",
              "    </tr>\n",
              "    <tr>\n",
              "      <th>3</th>\n",
              "      <td>nan</td>\n",
              "      <td>nan</td>\n",
              "      <td>nan</td>\n",
              "      <td>nan</td>\n",
              "      <td>nan</td>\n",
              "      <td>nan</td>\n",
              "      <td>nan</td>\n",
              "      <td>NaN</td>\n",
              "      <td>NaN</td>\n",
              "      <td>NaN</td>\n",
              "      <td>NaN</td>\n",
              "      <td>nan</td>\n",
              "      <td>nan</td>\n",
              "      <td>nan</td>\n",
              "      <td>nan</td>\n",
              "      <td>nan</td>\n",
              "      <td>47.685</td>\n",
              "      <td>nan</td>\n",
              "      <td>nan</td>\n",
              "      <td>nan</td>\n",
              "    </tr>\n",
              "  </tbody>\n",
              "</table>\n",
              "</div>"
            ],
            "text/plain": [
              "             id      price  bedrooms  ...     long  sqft_living15  sqft_lot15\n",
              "0 795000620.000 350000.000     3.000  ... -122.290       1540.000    5000.000\n",
              "1           nan 450000.000       nan  ...      nan            nan         nan\n",
              "2           nan        nan       nan  ...      nan            nan         nan\n",
              "3           nan        nan       nan  ...      nan            nan         nan\n",
              "\n",
              "[4 rows x 20 columns]"
            ]
          },
          "metadata": {
            "tags": []
          },
          "execution_count": 186
        }
      ]
    },
    {
      "cell_type": "markdown",
      "metadata": {
        "id": "PHz0sPO13RRZ",
        "colab_type": "text"
      },
      "source": [
        "#### **Measures of dispersion**"
      ]
    },
    {
      "cell_type": "code",
      "metadata": {
        "id": "5aJTTz3YrBC8",
        "colab_type": "code",
        "outputId": "f13e6f08-334a-467a-af43-0ae50da3226a",
        "colab": {
          "base_uri": "https://localhost:8080/",
          "height": 374
        }
      },
      "source": [
        "# use a for loop to get the variance \n",
        "\n",
        "pd.set_option('display.float_format', lambda x: '%.3f' % x)\n",
        "\n",
        "df.var()"
      ],
      "execution_count": 187,
      "outputs": [
        {
          "output_type": "execute_result",
          "data": {
            "text/plain": [
              "id              8272976227803638784.000\n",
              "price                  131637016909.527\n",
              "bedrooms                          0.823\n",
              "bathrooms                         0.588\n",
              "sqft_living                  828681.477\n",
              "sqft_lot                 1405672081.708\n",
              "floors                            0.292\n",
              "waterfront                        0.007\n",
              "view                              0.584\n",
              "condition                         0.424\n",
              "grade                             1.377\n",
              "sqft_above                   679014.883\n",
              "sqft_basement                193682.298\n",
              "yr_built                        862.608\n",
              "yr_renovated                 160880.790\n",
              "zipcode                        2863.316\n",
              "lat                               0.019\n",
              "long                              0.020\n",
              "sqft_living15                469306.457\n",
              "sqft_lot15                550289910.976\n",
              "dtype: float64"
            ]
          },
          "metadata": {
            "tags": []
          },
          "execution_count": 187
        }
      ]
    },
    {
      "cell_type": "code",
      "metadata": {
        "id": "JOvI2rU5rMn5",
        "colab_type": "code",
        "outputId": "080ac5cc-85ed-471d-e7b0-1c8be496cc36",
        "colab": {
          "base_uri": "https://localhost:8080/",
          "height": 374
        }
      },
      "source": [
        "# standard deviatiion\n",
        "\n",
        "df.std()"
      ],
      "execution_count": 188,
      "outputs": [
        {
          "output_type": "execute_result",
          "data": {
            "text/plain": [
              "id              2876278190.267\n",
              "price               362818.160\n",
              "bedrooms                 0.907\n",
              "bathrooms                0.767\n",
              "sqft_living            910.319\n",
              "sqft_lot             37492.294\n",
              "floors                   0.540\n",
              "waterfront               0.086\n",
              "view                     0.765\n",
              "condition                0.651\n",
              "grade                    1.173\n",
              "sqft_above             824.024\n",
              "sqft_basement          440.094\n",
              "yr_built                29.370\n",
              "yr_renovated           401.099\n",
              "zipcode                 53.510\n",
              "lat                      0.138\n",
              "long                     0.141\n",
              "sqft_living15          685.059\n",
              "sqft_lot15           23458.259\n",
              "dtype: float64"
            ]
          },
          "metadata": {
            "tags": []
          },
          "execution_count": 188
        }
      ]
    },
    {
      "cell_type": "markdown",
      "metadata": {
        "id": "15yUD8H44QHv",
        "colab_type": "text"
      },
      "source": [
        "####  **Frequency tables and Histograms**"
      ]
    },
    {
      "cell_type": "code",
      "metadata": {
        "id": "bCb78hys4fFM",
        "colab_type": "code",
        "colab": {}
      },
      "source": [
        "# "
      ],
      "execution_count": 0,
      "outputs": []
    },
    {
      "cell_type": "markdown",
      "metadata": {
        "id": "zCusBD2_rbZB",
        "colab_type": "text"
      },
      "source": [
        "#### **BIVARIATE ANALYSIS**\n",
        "\n",
        "Since the variables are all numerical in nature, the analysis will be scatter plots and linear correlation"
      ]
    },
    {
      "cell_type": "markdown",
      "metadata": {
        "id": "2UnJRxT8QKIf",
        "colab_type": "text"
      },
      "source": [
        "\n",
        "\n",
        "The response variable is the price of the house. We are trying to study the relationship between the predictor variables and the response variable. \n",
        "\n",
        "The predictor variables to be considered in this study will be:\n",
        "\n",
        "\n",
        "*   THe number of bedrooms\n",
        "*   The number of bathrooms\n",
        "*   THe size of the living room\n",
        "*   The size of the parking lot\n",
        "*   THe number of floors in the house\n",
        "\n"
      ]
    },
    {
      "cell_type": "markdown",
      "metadata": {
        "id": "6EMOq-d3ya6_",
        "colab_type": "text"
      },
      "source": [
        "**Number of bedrooms vs Price of the house**"
      ]
    },
    {
      "cell_type": "code",
      "metadata": {
        "id": "Fun52CcowYez",
        "colab_type": "code",
        "outputId": "71bd61d5-f88c-4e6c-f696-a8119e95bfeb",
        "colab": {
          "base_uri": "https://localhost:8080/",
          "height": 299
        }
      },
      "source": [
        "# scatterplot of Price of the house vs THe number of bedrooms in the house\n",
        "\n",
        "plt.scatter(df[\"bedrooms\"] , df[\"price\"])\n",
        "plt.title('Scatterplot of Prices of the house vs The number of the Bedrooms')\n",
        "plt.xlabel('Number of bedrooms in a house')\n",
        "plt.ylabel('Price of the house')\n",
        "plt.show()"
      ],
      "execution_count": 190,
      "outputs": [
        {
          "output_type": "display_data",
          "data": {
            "image/png": "[encoded data removed]",
            "text/plain": [
              "<Figure size 432x288 with 1 Axes>"
            ]
          },
          "metadata": {
            "tags": []
          }
        }
      ]
    },
    {
      "cell_type": "code",
      "metadata": {
        "id": "RzdqBpfFdhW1",
        "colab_type": "code",
        "outputId": "65908b05-fbb2-49cd-d3e1-f768c18d540e",
        "colab": {
          "base_uri": "https://localhost:8080/",
          "height": 51
        }
      },
      "source": [
        "# Calculating the pearson coefficient\n",
        "pearson_coeff = df[\"price\"].corr(df[\"bedrooms\"], method=\"pearson\") \n",
        "print(pearson_coeff)\n",
        "\n",
        "# Checking whether you have to define the pearson\n",
        "coeff = df[\"price\"].corr(df[\"bedrooms\"]) \n",
        "print(coeff)"
      ],
      "execution_count": 191,
      "outputs": [
        {
          "output_type": "stream",
          "text": [
            "0.31553939526304486\n",
            "0.31553939526304486\n"
          ],
          "name": "stdout"
        }
      ]
    },
    {
      "cell_type": "markdown",
      "metadata": {
        "id": "Zbe0IJtgdxFF",
        "colab_type": "text"
      },
      "source": [
        "There is a positive correlation between the number of the bedrooms and the price of the house. The correlation is however low, as it is < 0.5. This translates to when there is an increase in the number of the bedrooms, th price of the house increases.  "
      ]
    },
    {
      "cell_type": "markdown",
      "metadata": {
        "id": "0Zwu0zcmTvuj",
        "colab_type": "text"
      },
      "source": [
        "**Number of Bathrooms vs Price of the house**"
      ]
    },
    {
      "cell_type": "code",
      "metadata": {
        "id": "q_fGnNy1eMat",
        "colab_type": "code",
        "outputId": "d77232ad-3934-4683-9255-ff7c93197372",
        "colab": {
          "base_uri": "https://localhost:8080/",
          "height": 299
        }
      },
      "source": [
        "# scatterplot of the number of bathrooms in correlation to price of the house\n",
        "plt.scatter(df[\"bathrooms\"] , df[\"price\"])\n",
        "plt.title('Scatterplot of Prices of the house vs The number of the Bedrooms')\n",
        "plt.xlabel('Number of bathrooms in a house')\n",
        "plt.ylabel('Price of the house')\n",
        "plt.show()\n"
      ],
      "execution_count": 192,
      "outputs": [
        {
          "output_type": "display_data",
          "data": {
            "image/png": "[encoded data removed]",
            "text/plain": [
              "<Figure size 432x288 with 1 Axes>"
            ]
          },
          "metadata": {
            "tags": []
          }
        }
      ]
    },
    {
      "cell_type": "code",
      "metadata": {
        "id": "uDE3_M5qfSXk",
        "colab_type": "code",
        "outputId": "d8090693-b256-41af-b829-d5a10567de47",
        "colab": {
          "base_uri": "https://localhost:8080/",
          "height": 34
        }
      },
      "source": [
        "# Calculating the pearson coefficient\n",
        "pearson_coeff = df[\"price\"].corr(df[\"bathrooms\"], method=\"pearson\") \n",
        "print(pearson_coeff)\n"
      ],
      "execution_count": 193,
      "outputs": [
        {
          "output_type": "stream",
          "text": [
            "0.5215257677268599\n"
          ],
          "name": "stdout"
        }
      ]
    },
    {
      "cell_type": "markdown",
      "metadata": {
        "id": "MpnpR9b2fb8i",
        "colab_type": "text"
      },
      "source": [
        "There is a high positive correlation between the numeber of bathrooms in the house and the price of the house. This translates to, for every increase in the number of the bathrooms, the price of the house increases by 0.521525."
      ]
    },
    {
      "cell_type": "markdown",
      "metadata": {
        "id": "v2vY4J3FX_kS",
        "colab_type": "text"
      },
      "source": [
        "#### **MULTIVARIATE ANALYSIS**"
      ]
    },
    {
      "cell_type": "code",
      "metadata": {
        "id": "gF-WZ87L6fwU",
        "colab_type": "code",
        "outputId": "bf92e70d-9985-4012-a233-84f133d9af5a",
        "colab": {
          "base_uri": "https://localhost:8080/",
          "height": 551
        }
      },
      "source": [
        "# to get the frequency heatmap for the correlations of the dataframe \n",
        "#\n",
        "plt.figure(figsize=(16, 8))\n",
        "vg_corr = df.corr()\n",
        "sns.heatmap(vg_corr, \n",
        "            xticklabels = vg_corr.columns.values,\n",
        "            yticklabels = vg_corr.columns.values,\n",
        "            annot = True);\n",
        "\n"
      ],
      "execution_count": 194,
      "outputs": [
        {
          "output_type": "display_data",
          "data": {
            "image/png": "[encoded data removed]",
            "text/plain": [
              "<Figure size 1152x576 with 2 Axes>"
            ]
          },
          "metadata": {
            "tags": []
          }
        }
      ]
    },
    {
      "cell_type": "code",
      "metadata": {
        "id": "IwFtOhWXapqN",
        "colab_type": "code",
        "colab": {}
      },
      "source": [
        "# get dummy variables for the waterfront column\n",
        "# \n",
        "df_2 = pd.get_dummies(df, columns=['waterfront'])\n"
      ],
      "execution_count": 0,
      "outputs": []
    },
    {
      "cell_type": "code",
      "metadata": {
        "id": "xijvxTEybN8Z",
        "colab_type": "code",
        "colab": {
          "base_uri": "https://localhost:8080/",
          "height": 102
        },
        "outputId": "e9b6a980-e95d-465d-ce9a-1e67966d1cff"
      },
      "source": [
        "df_2.columns"
      ],
      "execution_count": 196,
      "outputs": [
        {
          "output_type": "execute_result",
          "data": {
            "text/plain": [
              "Index(['id', 'price', 'bedrooms', 'bathrooms', 'sqft_living', 'sqft_lot',\n",
              "       'floors', 'view', 'condition', 'grade', 'sqft_above', 'sqft_basement',\n",
              "       'yr_built', 'yr_renovated', 'zipcode', 'lat', 'long', 'sqft_living15',\n",
              "       'sqft_lot15', 'waterfront_0', 'waterfront_1'],\n",
              "      dtype='object')"
            ]
          },
          "metadata": {
            "tags": []
          },
          "execution_count": 196
        }
      ]
    },
    {
      "cell_type": "code",
      "metadata": {
        "id": "0gfd9Nnwbgnm",
        "colab_type": "code",
        "colab": {
          "base_uri": "https://localhost:8080/",
          "height": 439
        },
        "outputId": "d73f2c43-f50f-494a-fa3f-19b3fcd9ae96"
      },
      "source": [
        "df_3 = df_2.drop(['id', 'zipcode', 'lat', 'long'], axis=1)\n",
        "df_3"
      ],
      "execution_count": 197,
      "outputs": [
        {
          "output_type": "execute_result",
          "data": {
            "text/html": [
              "<div>\n",
              "<style scoped>\n",
              "    .dataframe tbody tr th:only-of-type {\n",
              "        vertical-align: middle;\n",
              "    }\n",
              "\n",
              "    .dataframe tbody tr th {\n",
              "        vertical-align: top;\n",
              "    }\n",
              "\n",
              "    .dataframe thead th {\n",
              "        text-align: right;\n",
              "    }\n",
              "</style>\n",
              "<table border=\"1\" class=\"dataframe\">\n",
              "  <thead>\n",
              "    <tr style=\"text-align: right;\">\n",
              "      <th></th>\n",
              "      <th>price</th>\n",
              "      <th>bedrooms</th>\n",
              "      <th>bathrooms</th>\n",
              "      <th>sqft_living</th>\n",
              "      <th>sqft_lot</th>\n",
              "      <th>floors</th>\n",
              "      <th>view</th>\n",
              "      <th>condition</th>\n",
              "      <th>grade</th>\n",
              "      <th>sqft_above</th>\n",
              "      <th>sqft_basement</th>\n",
              "      <th>yr_built</th>\n",
              "      <th>yr_renovated</th>\n",
              "      <th>sqft_living15</th>\n",
              "      <th>sqft_lot15</th>\n",
              "      <th>waterfront_0</th>\n",
              "      <th>waterfront_1</th>\n",
              "    </tr>\n",
              "  </thead>\n",
              "  <tbody>\n",
              "    <tr>\n",
              "      <th>0</th>\n",
              "      <td>221900.000</td>\n",
              "      <td>3</td>\n",
              "      <td>1.000</td>\n",
              "      <td>1180</td>\n",
              "      <td>5650</td>\n",
              "      <td>1.000</td>\n",
              "      <td>0</td>\n",
              "      <td>3</td>\n",
              "      <td>7</td>\n",
              "      <td>1180</td>\n",
              "      <td>0</td>\n",
              "      <td>1955</td>\n",
              "      <td>0</td>\n",
              "      <td>1340</td>\n",
              "      <td>5650</td>\n",
              "      <td>1</td>\n",
              "      <td>0</td>\n",
              "    </tr>\n",
              "    <tr>\n",
              "      <th>1</th>\n",
              "      <td>538000.000</td>\n",
              "      <td>3</td>\n",
              "      <td>2.250</td>\n",
              "      <td>2570</td>\n",
              "      <td>7242</td>\n",
              "      <td>2.000</td>\n",
              "      <td>0</td>\n",
              "      <td>3</td>\n",
              "      <td>7</td>\n",
              "      <td>2170</td>\n",
              "      <td>400</td>\n",
              "      <td>1951</td>\n",
              "      <td>1991</td>\n",
              "      <td>1690</td>\n",
              "      <td>7639</td>\n",
              "      <td>1</td>\n",
              "      <td>0</td>\n",
              "    </tr>\n",
              "    <tr>\n",
              "      <th>2</th>\n",
              "      <td>180000.000</td>\n",
              "      <td>2</td>\n",
              "      <td>1.000</td>\n",
              "      <td>770</td>\n",
              "      <td>10000</td>\n",
              "      <td>1.000</td>\n",
              "      <td>0</td>\n",
              "      <td>3</td>\n",
              "      <td>6</td>\n",
              "      <td>770</td>\n",
              "      <td>0</td>\n",
              "      <td>1933</td>\n",
              "      <td>0</td>\n",
              "      <td>2720</td>\n",
              "      <td>8062</td>\n",
              "      <td>1</td>\n",
              "      <td>0</td>\n",
              "    </tr>\n",
              "    <tr>\n",
              "      <th>3</th>\n",
              "      <td>604000.000</td>\n",
              "      <td>4</td>\n",
              "      <td>3.000</td>\n",
              "      <td>1960</td>\n",
              "      <td>5000</td>\n",
              "      <td>1.000</td>\n",
              "      <td>0</td>\n",
              "      <td>5</td>\n",
              "      <td>7</td>\n",
              "      <td>1050</td>\n",
              "      <td>910</td>\n",
              "      <td>1965</td>\n",
              "      <td>0</td>\n",
              "      <td>1360</td>\n",
              "      <td>5000</td>\n",
              "      <td>1</td>\n",
              "      <td>0</td>\n",
              "    </tr>\n",
              "    <tr>\n",
              "      <th>4</th>\n",
              "      <td>510000.000</td>\n",
              "      <td>3</td>\n",
              "      <td>2.000</td>\n",
              "      <td>1680</td>\n",
              "      <td>8080</td>\n",
              "      <td>1.000</td>\n",
              "      <td>0</td>\n",
              "      <td>3</td>\n",
              "      <td>8</td>\n",
              "      <td>1680</td>\n",
              "      <td>0</td>\n",
              "      <td>1987</td>\n",
              "      <td>0</td>\n",
              "      <td>1800</td>\n",
              "      <td>7503</td>\n",
              "      <td>1</td>\n",
              "      <td>0</td>\n",
              "    </tr>\n",
              "    <tr>\n",
              "      <th>...</th>\n",
              "      <td>...</td>\n",
              "      <td>...</td>\n",
              "      <td>...</td>\n",
              "      <td>...</td>\n",
              "      <td>...</td>\n",
              "      <td>...</td>\n",
              "      <td>...</td>\n",
              "      <td>...</td>\n",
              "      <td>...</td>\n",
              "      <td>...</td>\n",
              "      <td>...</td>\n",
              "      <td>...</td>\n",
              "      <td>...</td>\n",
              "      <td>...</td>\n",
              "      <td>...</td>\n",
              "      <td>...</td>\n",
              "      <td>...</td>\n",
              "    </tr>\n",
              "    <tr>\n",
              "      <th>21608</th>\n",
              "      <td>360000.000</td>\n",
              "      <td>3</td>\n",
              "      <td>2.500</td>\n",
              "      <td>1530</td>\n",
              "      <td>1131</td>\n",
              "      <td>3.000</td>\n",
              "      <td>0</td>\n",
              "      <td>3</td>\n",
              "      <td>8</td>\n",
              "      <td>1530</td>\n",
              "      <td>0</td>\n",
              "      <td>2009</td>\n",
              "      <td>0</td>\n",
              "      <td>1530</td>\n",
              "      <td>1509</td>\n",
              "      <td>1</td>\n",
              "      <td>0</td>\n",
              "    </tr>\n",
              "    <tr>\n",
              "      <th>21609</th>\n",
              "      <td>400000.000</td>\n",
              "      <td>4</td>\n",
              "      <td>2.500</td>\n",
              "      <td>2310</td>\n",
              "      <td>5813</td>\n",
              "      <td>2.000</td>\n",
              "      <td>0</td>\n",
              "      <td>3</td>\n",
              "      <td>8</td>\n",
              "      <td>2310</td>\n",
              "      <td>0</td>\n",
              "      <td>2014</td>\n",
              "      <td>0</td>\n",
              "      <td>1830</td>\n",
              "      <td>7200</td>\n",
              "      <td>1</td>\n",
              "      <td>0</td>\n",
              "    </tr>\n",
              "    <tr>\n",
              "      <th>21610</th>\n",
              "      <td>402101.000</td>\n",
              "      <td>2</td>\n",
              "      <td>0.750</td>\n",
              "      <td>1020</td>\n",
              "      <td>1350</td>\n",
              "      <td>2.000</td>\n",
              "      <td>0</td>\n",
              "      <td>3</td>\n",
              "      <td>7</td>\n",
              "      <td>1020</td>\n",
              "      <td>0</td>\n",
              "      <td>2009</td>\n",
              "      <td>0</td>\n",
              "      <td>1020</td>\n",
              "      <td>2007</td>\n",
              "      <td>1</td>\n",
              "      <td>0</td>\n",
              "    </tr>\n",
              "    <tr>\n",
              "      <th>21611</th>\n",
              "      <td>400000.000</td>\n",
              "      <td>3</td>\n",
              "      <td>2.500</td>\n",
              "      <td>1600</td>\n",
              "      <td>2388</td>\n",
              "      <td>2.000</td>\n",
              "      <td>0</td>\n",
              "      <td>3</td>\n",
              "      <td>8</td>\n",
              "      <td>1600</td>\n",
              "      <td>0</td>\n",
              "      <td>2004</td>\n",
              "      <td>0</td>\n",
              "      <td>1410</td>\n",
              "      <td>1287</td>\n",
              "      <td>1</td>\n",
              "      <td>0</td>\n",
              "    </tr>\n",
              "    <tr>\n",
              "      <th>21612</th>\n",
              "      <td>325000.000</td>\n",
              "      <td>2</td>\n",
              "      <td>0.750</td>\n",
              "      <td>1020</td>\n",
              "      <td>1076</td>\n",
              "      <td>2.000</td>\n",
              "      <td>0</td>\n",
              "      <td>3</td>\n",
              "      <td>7</td>\n",
              "      <td>1020</td>\n",
              "      <td>0</td>\n",
              "      <td>2008</td>\n",
              "      <td>0</td>\n",
              "      <td>1020</td>\n",
              "      <td>1357</td>\n",
              "      <td>1</td>\n",
              "      <td>0</td>\n",
              "    </tr>\n",
              "  </tbody>\n",
              "</table>\n",
              "<p>21584 rows × 17 columns</p>\n",
              "</div>"
            ],
            "text/plain": [
              "           price  bedrooms  bathrooms  ...  sqft_lot15  waterfront_0  waterfront_1\n",
              "0     221900.000         3      1.000  ...        5650             1             0\n",
              "1     538000.000         3      2.250  ...        7639             1             0\n",
              "2     180000.000         2      1.000  ...        8062             1             0\n",
              "3     604000.000         4      3.000  ...        5000             1             0\n",
              "4     510000.000         3      2.000  ...        7503             1             0\n",
              "...          ...       ...        ...  ...         ...           ...           ...\n",
              "21608 360000.000         3      2.500  ...        1509             1             0\n",
              "21609 400000.000         4      2.500  ...        7200             1             0\n",
              "21610 402101.000         2      0.750  ...        2007             1             0\n",
              "21611 400000.000         3      2.500  ...        1287             1             0\n",
              "21612 325000.000         2      0.750  ...        1357             1             0\n",
              "\n",
              "[21584 rows x 17 columns]"
            ]
          },
          "metadata": {
            "tags": []
          },
          "execution_count": 197
        }
      ]
    },
    {
      "cell_type": "markdown",
      "metadata": {
        "id": "nBxLtdWZmgW_",
        "colab_type": "text"
      },
      "source": [
        "### **Feature Engineering**"
      ]
    },
    {
      "cell_type": "code",
      "metadata": {
        "id": "wjeCitqWmenm",
        "colab_type": "code",
        "colab": {
          "base_uri": "https://localhost:8080/",
          "height": 224
        },
        "outputId": "45392394-9e13-4cb5-8da0-62a9c185fa8f"
      },
      "source": [
        "# The columns sqft_above and sqft_living have a very high correlation of 0.88 \n",
        "# thus we join the two to form a new column \n",
        "# \n",
        "df = df_2\n",
        "\n",
        "df_2['sqft_abv_living'] = df_2['sqft_above'] + df_2['sqft_living']\n",
        "df_2\n",
        "\n",
        "# drop the sqft_living and sqft_above as we will have no use for them\n",
        "# \n",
        "df_3 = df_2.drop(['sqft_above', 'sqft_living', 'id', 'zipcode', 'lat', 'long'], axis=1)\n",
        "df_3.head()"
      ],
      "execution_count": 198,
      "outputs": [
        {
          "output_type": "execute_result",
          "data": {
            "text/html": [
              "<div>\n",
              "<style scoped>\n",
              "    .dataframe tbody tr th:only-of-type {\n",
              "        vertical-align: middle;\n",
              "    }\n",
              "\n",
              "    .dataframe tbody tr th {\n",
              "        vertical-align: top;\n",
              "    }\n",
              "\n",
              "    .dataframe thead th {\n",
              "        text-align: right;\n",
              "    }\n",
              "</style>\n",
              "<table border=\"1\" class=\"dataframe\">\n",
              "  <thead>\n",
              "    <tr style=\"text-align: right;\">\n",
              "      <th></th>\n",
              "      <th>price</th>\n",
              "      <th>bedrooms</th>\n",
              "      <th>bathrooms</th>\n",
              "      <th>sqft_lot</th>\n",
              "      <th>floors</th>\n",
              "      <th>view</th>\n",
              "      <th>condition</th>\n",
              "      <th>grade</th>\n",
              "      <th>sqft_basement</th>\n",
              "      <th>yr_built</th>\n",
              "      <th>yr_renovated</th>\n",
              "      <th>sqft_living15</th>\n",
              "      <th>sqft_lot15</th>\n",
              "      <th>waterfront_0</th>\n",
              "      <th>waterfront_1</th>\n",
              "      <th>sqft_abv_living</th>\n",
              "    </tr>\n",
              "  </thead>\n",
              "  <tbody>\n",
              "    <tr>\n",
              "      <th>0</th>\n",
              "      <td>221900.000</td>\n",
              "      <td>3</td>\n",
              "      <td>1.000</td>\n",
              "      <td>5650</td>\n",
              "      <td>1.000</td>\n",
              "      <td>0</td>\n",
              "      <td>3</td>\n",
              "      <td>7</td>\n",
              "      <td>0</td>\n",
              "      <td>1955</td>\n",
              "      <td>0</td>\n",
              "      <td>1340</td>\n",
              "      <td>5650</td>\n",
              "      <td>1</td>\n",
              "      <td>0</td>\n",
              "      <td>2360</td>\n",
              "    </tr>\n",
              "    <tr>\n",
              "      <th>1</th>\n",
              "      <td>538000.000</td>\n",
              "      <td>3</td>\n",
              "      <td>2.250</td>\n",
              "      <td>7242</td>\n",
              "      <td>2.000</td>\n",
              "      <td>0</td>\n",
              "      <td>3</td>\n",
              "      <td>7</td>\n",
              "      <td>400</td>\n",
              "      <td>1951</td>\n",
              "      <td>1991</td>\n",
              "      <td>1690</td>\n",
              "      <td>7639</td>\n",
              "      <td>1</td>\n",
              "      <td>0</td>\n",
              "      <td>4740</td>\n",
              "    </tr>\n",
              "    <tr>\n",
              "      <th>2</th>\n",
              "      <td>180000.000</td>\n",
              "      <td>2</td>\n",
              "      <td>1.000</td>\n",
              "      <td>10000</td>\n",
              "      <td>1.000</td>\n",
              "      <td>0</td>\n",
              "      <td>3</td>\n",
              "      <td>6</td>\n",
              "      <td>0</td>\n",
              "      <td>1933</td>\n",
              "      <td>0</td>\n",
              "      <td>2720</td>\n",
              "      <td>8062</td>\n",
              "      <td>1</td>\n",
              "      <td>0</td>\n",
              "      <td>1540</td>\n",
              "    </tr>\n",
              "    <tr>\n",
              "      <th>3</th>\n",
              "      <td>604000.000</td>\n",
              "      <td>4</td>\n",
              "      <td>3.000</td>\n",
              "      <td>5000</td>\n",
              "      <td>1.000</td>\n",
              "      <td>0</td>\n",
              "      <td>5</td>\n",
              "      <td>7</td>\n",
              "      <td>910</td>\n",
              "      <td>1965</td>\n",
              "      <td>0</td>\n",
              "      <td>1360</td>\n",
              "      <td>5000</td>\n",
              "      <td>1</td>\n",
              "      <td>0</td>\n",
              "      <td>3010</td>\n",
              "    </tr>\n",
              "    <tr>\n",
              "      <th>4</th>\n",
              "      <td>510000.000</td>\n",
              "      <td>3</td>\n",
              "      <td>2.000</td>\n",
              "      <td>8080</td>\n",
              "      <td>1.000</td>\n",
              "      <td>0</td>\n",
              "      <td>3</td>\n",
              "      <td>8</td>\n",
              "      <td>0</td>\n",
              "      <td>1987</td>\n",
              "      <td>0</td>\n",
              "      <td>1800</td>\n",
              "      <td>7503</td>\n",
              "      <td>1</td>\n",
              "      <td>0</td>\n",
              "      <td>3360</td>\n",
              "    </tr>\n",
              "  </tbody>\n",
              "</table>\n",
              "</div>"
            ],
            "text/plain": [
              "       price  bedrooms  bathrooms  ...  waterfront_0  waterfront_1 sqft_abv_living\n",
              "0 221900.000         3      1.000  ...             1             0            2360\n",
              "1 538000.000         3      2.250  ...             1             0            4740\n",
              "2 180000.000         2      1.000  ...             1             0            1540\n",
              "3 604000.000         4      3.000  ...             1             0            3010\n",
              "4 510000.000         3      2.000  ...             1             0            3360\n",
              "\n",
              "[5 rows x 16 columns]"
            ]
          },
          "metadata": {
            "tags": []
          },
          "execution_count": 198
        }
      ]
    },
    {
      "cell_type": "code",
      "metadata": {
        "id": "9bdxSmjDcTgv",
        "colab_type": "code",
        "colab": {}
      },
      "source": [
        "# allocating values for X and Y\n",
        "# \n",
        "X = df_3.drop(columns= ['price'], axis=1)\n",
        "y = df_3['price']"
      ],
      "execution_count": 0,
      "outputs": []
    },
    {
      "cell_type": "markdown",
      "metadata": {
        "id": "TbHL56XPpGZe",
        "colab_type": "text"
      },
      "source": [
        "#### **Principal Components Analysis**\n",
        "\n",
        "Feature redduction using the PCA"
      ]
    },
    {
      "cell_type": "code",
      "metadata": {
        "id": "335zzcCo1sJ3",
        "colab_type": "code",
        "colab": {
          "base_uri": "https://localhost:8080/",
          "height": 102
        },
        "outputId": "33228b23-050e-41ae-9498-603dd528de0a"
      },
      "source": [
        "df_3.columns"
      ],
      "execution_count": 200,
      "outputs": [
        {
          "output_type": "execute_result",
          "data": {
            "text/plain": [
              "Index(['price', 'bedrooms', 'bathrooms', 'sqft_lot', 'floors', 'view',\n",
              "       'condition', 'grade', 'sqft_basement', 'yr_built', 'yr_renovated',\n",
              "       'sqft_living15', 'sqft_lot15', 'waterfront_0', 'waterfront_1',\n",
              "       'sqft_abv_living'],\n",
              "      dtype='object')"
            ]
          },
          "metadata": {
            "tags": []
          },
          "execution_count": 200
        }
      ]
    },
    {
      "cell_type": "code",
      "metadata": {
        "id": "pP2NOB77YG8E",
        "colab_type": "code",
        "outputId": "6490bc7a-dac2-4fa3-dbd9-eb14ebad5370",
        "colab": {
          "base_uri": "https://localhost:8080/",
          "height": 235
        }
      },
      "source": [
        "# feature reduction using PCA\n",
        "#Finding the best principal Components\n",
        "# \n",
        "from sklearn.decomposition import PCA\n",
        "\n",
        "np.random.seed(0)\n",
        "\n",
        "train_features = X\n",
        "\n",
        "model = PCA(n_components=6).fit(train_features)\n",
        "\n",
        "# number of components\n",
        "n_pcs= model.components_.shape[0]\n",
        "\n",
        "# get the index of the most important feature on EACH component\n",
        "# LIST COMPREHENSION HERE\n",
        "most_important = [np.abs(model.components_[i]).argmax() for i in range(n_pcs)]\n",
        "\n",
        "# creating a list of the feature names\n",
        "# \n",
        "initial_feature_names = ['bedrooms', 'bathrooms', 'sqft_lot', 'floors', 'view',\n",
        "       'condition', 'grade', 'sqft_basement', 'yr_built', 'yr_renovated',\n",
        "       'sqft_living15', 'sqft_lot15', 'waterfront_0', 'waterfront_1',\n",
        "       'sqft_abv_living']\n",
        "\n",
        "\n",
        "# get the names\n",
        "most_important_names = [initial_feature_names[most_important[i]] for i in range(n_pcs)]\n",
        "# LIST COMPREHENSION HERE AGAIN\n",
        "dic = {'PC{}'.format(i): most_important_names[i] for i in range(n_pcs)}\n",
        "# build the dataframe\n",
        "df_PCS = pd.DataFrame(dic.items())\n",
        "\n",
        "# getting the explained variance and explained variance ratio\n",
        "# \n",
        "explained_variances_ratios = model.explained_variance_ratio_\n",
        "\n",
        "explained_variance = model.explained_variance_\n",
        "\n",
        "# adding the explained_variances_ratio column to the PC df\n",
        "# \n",
        "df_PCS['explained_variances_ratios'] = explained_variances_ratios\n",
        "df_PCS"
      ],
      "execution_count": 201,
      "outputs": [
        {
          "output_type": "execute_result",
          "data": {
            "text/html": [
              "<div>\n",
              "<style scoped>\n",
              "    .dataframe tbody tr th:only-of-type {\n",
              "        vertical-align: middle;\n",
              "    }\n",
              "\n",
              "    .dataframe tbody tr th {\n",
              "        vertical-align: top;\n",
              "    }\n",
              "\n",
              "    .dataframe thead th {\n",
              "        text-align: right;\n",
              "    }\n",
              "</style>\n",
              "<table border=\"1\" class=\"dataframe\">\n",
              "  <thead>\n",
              "    <tr style=\"text-align: right;\">\n",
              "      <th></th>\n",
              "      <th>0</th>\n",
              "      <th>1</th>\n",
              "      <th>explained_variances_ratios</th>\n",
              "    </tr>\n",
              "  </thead>\n",
              "  <tbody>\n",
              "    <tr>\n",
              "      <th>0</th>\n",
              "      <td>PC0</td>\n",
              "      <td>sqft_lot</td>\n",
              "      <td>0.884</td>\n",
              "    </tr>\n",
              "    <tr>\n",
              "      <th>1</th>\n",
              "      <td>PC1</td>\n",
              "      <td>sqft_lot15</td>\n",
              "      <td>0.114</td>\n",
              "    </tr>\n",
              "    <tr>\n",
              "      <th>2</th>\n",
              "      <td>PC2</td>\n",
              "      <td>sqft_abv_living</td>\n",
              "      <td>0.002</td>\n",
              "    </tr>\n",
              "    <tr>\n",
              "      <th>3</th>\n",
              "      <td>PC3</td>\n",
              "      <td>sqft_basement</td>\n",
              "      <td>0.000</td>\n",
              "    </tr>\n",
              "    <tr>\n",
              "      <th>4</th>\n",
              "      <td>PC4</td>\n",
              "      <td>sqft_living15</td>\n",
              "      <td>0.000</td>\n",
              "    </tr>\n",
              "    <tr>\n",
              "      <th>5</th>\n",
              "      <td>PC5</td>\n",
              "      <td>yr_renovated</td>\n",
              "      <td>0.000</td>\n",
              "    </tr>\n",
              "  </tbody>\n",
              "</table>\n",
              "</div>"
            ],
            "text/plain": [
              "     0                1  explained_variances_ratios\n",
              "0  PC0         sqft_lot                       0.884\n",
              "1  PC1       sqft_lot15                       0.114\n",
              "2  PC2  sqft_abv_living                       0.002\n",
              "3  PC3    sqft_basement                       0.000\n",
              "4  PC4    sqft_living15                       0.000\n",
              "5  PC5     yr_renovated                       0.000"
            ]
          },
          "metadata": {
            "tags": []
          },
          "execution_count": 201
        }
      ]
    },
    {
      "cell_type": "markdown",
      "metadata": {
        "id": "Nc7n_XdrrD38",
        "colab_type": "text"
      },
      "source": [
        "> The dataframe above gives an ordered list of how the principal components explain the variance starting from the highest explained variance to the lowest. PC0 explains the most variance while PC5 explains the least Variance. \n",
        "Their explained variances have been attached for more insight of how the different components explain the variance. "
      ]
    },
    {
      "cell_type": "markdown",
      "metadata": {
        "id": "YgK40SjcroFR",
        "colab_type": "text"
      },
      "source": [
        "## **REGRESSION**"
      ]
    },
    {
      "cell_type": "markdown",
      "metadata": {
        "id": "oWPby_6x-Wos",
        "colab_type": "text"
      },
      "source": [
        "### **MULTIPLE LINEAR REGRESSION**"
      ]
    },
    {
      "cell_type": "code",
      "metadata": {
        "id": "b0BWgsKkAykL",
        "colab_type": "code",
        "outputId": "82ed8b63-9aae-4412-fcb5-d188c5a70598",
        "colab": {
          "base_uri": "https://localhost:8080/",
          "height": 102
        }
      },
      "source": [
        "df_3.columns"
      ],
      "execution_count": 202,
      "outputs": [
        {
          "output_type": "execute_result",
          "data": {
            "text/plain": [
              "Index(['price', 'bedrooms', 'bathrooms', 'sqft_lot', 'floors', 'view',\n",
              "       'condition', 'grade', 'sqft_basement', 'yr_built', 'yr_renovated',\n",
              "       'sqft_living15', 'sqft_lot15', 'waterfront_0', 'waterfront_1',\n",
              "       'sqft_abv_living'],\n",
              "      dtype='object')"
            ]
          },
          "metadata": {
            "tags": []
          },
          "execution_count": 202
        }
      ]
    },
    {
      "cell_type": "code",
      "metadata": {
        "id": "mUdndYr_-eKs",
        "colab_type": "code",
        "outputId": "61fbe669-747a-4a94-b268-74927049a837",
        "colab": {
          "base_uri": "https://localhost:8080/",
          "height": 102
        }
      },
      "source": [
        "# specifying the values for X and Y \n",
        "# this will be a multilinear regression model as there are a number of featured\n",
        "# \n",
        "# X = df_3[['bathrooms', 'bedrooms', 'sqft_lot', 'sqft_basement', 'sqft_above']].values\n",
        "# y = df_3['price'].values\n",
        "\n",
        "# Train using 80% of the dataset \n",
        "X_train, X_test, y_train, y_test = train_test_split(X, y, test_size=0.2, random_state=0)\n",
        "\n",
        "# find optimal coefficients and intercept\n",
        "# \n",
        "regressor = LinearRegression()  \n",
        "regressor.fit(X_train, y_train)\n",
        "\n",
        "# to predict y using the model\n",
        "# \n",
        "y_pred = regressor.predict(X_test)\n",
        "\n",
        "# to find the comparison frame for the model\n",
        "# \n",
        "# comparison_frame = pd.DataFrame({'Actual': y_test.flatten(), 'Predicted': y_pred.flatten()})\n",
        "# comparison_frame.describe()\n",
        "\n",
        "print(\"The regressor coefficient is \", regressor.coef_)\n",
        "print(\"The regressor intercept is \", regressor.intercept_)"
      ],
      "execution_count": 203,
      "outputs": [
        {
          "output_type": "stream",
          "text": [
            "The regressor coefficient is  [-4.30393156e+04  4.58330348e+04 -2.08121185e-02  2.36476598e+04\n",
            "  4.22840188e+04  2.01315008e+04  1.18656414e+05  8.61088921e+01\n",
            " -3.50599912e+03  5.30738573e+00  2.51207837e+01 -6.00155809e-01\n",
            " -2.89013962e+05  2.89013962e+05  8.19160757e+01]\n",
            "The regressor intercept is  6376046.314191882\n"
          ],
          "name": "stdout"
        }
      ]
    },
    {
      "cell_type": "code",
      "metadata": {
        "id": "oO_fcSjfigI-",
        "colab_type": "code",
        "colab": {
          "base_uri": "https://localhost:8080/",
          "height": 34
        },
        "outputId": "f2211c31-dd26-425c-ec07-6d95d29bfca2"
      },
      "source": [
        "from sklearn import ensemble\n",
        "lr = ensemble.GradientBoostingRegressor()\n",
        "model = lr.fit(X_train, y_train)\n",
        "linear_model =  model.score(X_test, y_test)\n",
        "linear_model\n",
        "\n"
      ],
      "execution_count": 204,
      "outputs": [
        {
          "output_type": "execute_result",
          "data": {
            "text/plain": [
              "0.7576032660625114"
            ]
          },
          "metadata": {
            "tags": []
          },
          "execution_count": 204
        }
      ]
    },
    {
      "cell_type": "markdown",
      "metadata": {
        "id": "sSXspwPthzAa",
        "colab_type": "text"
      },
      "source": [
        "> The model has an accuracy is 75%, hence the multiple linear regression is a good regressor for the data"
      ]
    },
    {
      "cell_type": "code",
      "metadata": {
        "id": "8YMQR7HnCRt3",
        "colab_type": "code",
        "outputId": "684e2d10-df98-443d-af83-515b8ef7e032",
        "colab": {
          "base_uri": "https://localhost:8080/",
          "height": 68
        }
      },
      "source": [
        "# import the metric library to use for calculating the RMSE\n",
        "from sklearn import metrics\n",
        "y_pred = regressor.predict(X_test)\n",
        "\n",
        "print('Mean Absolute Error:', metrics.mean_absolute_error(y_test, y_pred))  \n",
        "print('Mean Squared Error:', metrics.mean_squared_error(y_test, y_pred))  \n",
        "print('Root Mean Squared Error:', np.sqrt(metrics.mean_squared_error(y_test, y_pred)))\n"
      ],
      "execution_count": 205,
      "outputs": [
        {
          "output_type": "stream",
          "text": [
            "Mean Absolute Error: 138598.60049557933\n",
            "Mean Squared Error: 43334921815.903725\n",
            "Root Mean Squared Error: 208170.41532336848\n"
          ],
          "name": "stdout"
        }
      ]
    },
    {
      "cell_type": "code",
      "metadata": {
        "id": "IOTtmqXysYHV",
        "colab_type": "code",
        "colab": {
          "base_uri": "https://localhost:8080/",
          "height": 299
        },
        "outputId": "719abb02-ef86-405b-ec28-9fa87776976b"
      },
      "source": [
        "# Plotting the prediction errors\n",
        "\n",
        "residuals = y_test - y_pred\n",
        "plt.scatter(y_pred, residuals, color='blue')\n",
        "plt.title('Residual Plot')\n",
        "plt.ylabel('residual')\n",
        "plt.xlabel('fitted values')\n",
        "plt.axhline(y= residuals.mean(), color='black')\n",
        "plt.show()"
      ],
      "execution_count": 206,
      "outputs": [
        {
          "output_type": "display_data",
          "data": {
            "image/png": "[encoded data removed]",
            "text/plain": [
              "<Figure size 432x288 with 1 Axes>"
            ]
          },
          "metadata": {
            "tags": []
          }
        }
      ]
    },
    {
      "cell_type": "markdown",
      "metadata": {
        "id": "bGr-xqAzsjB4",
        "colab_type": "text"
      },
      "source": [
        "> The residual plot above shows a random, clustered pattern around zero, indicating low heteroskedasticity thus,a good fit for the linear model."
      ]
    },
    {
      "cell_type": "markdown",
      "metadata": {
        "id": "V1vSnZylkAt-",
        "colab_type": "text"
      },
      "source": [
        "### Checking for Heteroscadasticity using Barlett's Test\n",
        "\n",
        "> The concept of [heteroscedasticity](https://www.xlstat.com/en/solutions/features/heteroscedasticity-tests) - the opposite being homoscedasticity - is used in statistics, especially in the context of linear regression or for time series analysis, to describe the case where the variance of errors or the model is not the same for all observations, while often one of the basic assumption in modeling is that the variances are homogeneous and that the errors of the model are identically distributed.\n",
        "\n",
        "> The barlett'stest establishes as a null hypothesis that the variance is equal for all our datapoints,and the new hypothesis that the variance is different for at least one pair of datapoints"
      ]
    },
    {
      "cell_type": "code",
      "metadata": {
        "id": "CIJykuo8kItC",
        "colab_type": "code",
        "colab": {
          "base_uri": "https://localhost:8080/",
          "height": 51
        },
        "outputId": "d0bd23a9-061c-483d-a242-b61de348cd36"
      },
      "source": [
        "# Using critical value to find the heteroskedasticity\n",
        "import scipy as sp\n",
        "test_result, p_value = sp.stats.bartlett(y_pred, residuals)\n",
        "\n",
        "# To interpret the results we must also compute a critical value of the chi squared distribution\n",
        "degree_of_freedom = len(y_pred)-1\n",
        "probability = 1 - p_value\n",
        "critical_value = sp.stats.chi2.ppf(probability, degree_of_freedom)\n",
        "print(critical_value)\n",
        "\n",
        "## comparing the critical value and the test result\n",
        "if (test_result > critical_value):\n",
        " print('the variances are unequal, and the model should be reassessed')\n",
        "else:\n",
        " print('the variances are homogeneous!')"
      ],
      "execution_count": 207,
      "outputs": [
        {
          "output_type": "stream",
          "text": [
            "inf\n",
            "the variances are homogeneous!\n"
          ],
          "name": "stdout"
        }
      ]
    },
    {
      "cell_type": "markdown",
      "metadata": {
        "id": "ug4H8ozM4yBG",
        "colab_type": "text"
      },
      "source": [
        "### **QUANTILE REGRESSION**"
      ]
    },
    {
      "cell_type": "code",
      "metadata": {
        "id": "H6YRySDKzW-l",
        "colab_type": "code",
        "colab": {
          "base_uri": "https://localhost:8080/",
          "height": 224
        },
        "outputId": "5b0ee334-dbec-4e46-ad4a-3cfd298c19ce"
      },
      "source": [
        "# previewing the dataset\n",
        "# \n",
        "df_3.head()"
      ],
      "execution_count": 208,
      "outputs": [
        {
          "output_type": "execute_result",
          "data": {
            "text/html": [
              "<div>\n",
              "<style scoped>\n",
              "    .dataframe tbody tr th:only-of-type {\n",
              "        vertical-align: middle;\n",
              "    }\n",
              "\n",
              "    .dataframe tbody tr th {\n",
              "        vertical-align: top;\n",
              "    }\n",
              "\n",
              "    .dataframe thead th {\n",
              "        text-align: right;\n",
              "    }\n",
              "</style>\n",
              "<table border=\"1\" class=\"dataframe\">\n",
              "  <thead>\n",
              "    <tr style=\"text-align: right;\">\n",
              "      <th></th>\n",
              "      <th>price</th>\n",
              "      <th>bedrooms</th>\n",
              "      <th>bathrooms</th>\n",
              "      <th>sqft_lot</th>\n",
              "      <th>floors</th>\n",
              "      <th>view</th>\n",
              "      <th>condition</th>\n",
              "      <th>grade</th>\n",
              "      <th>sqft_basement</th>\n",
              "      <th>yr_built</th>\n",
              "      <th>yr_renovated</th>\n",
              "      <th>sqft_living15</th>\n",
              "      <th>sqft_lot15</th>\n",
              "      <th>waterfront_0</th>\n",
              "      <th>waterfront_1</th>\n",
              "      <th>sqft_abv_living</th>\n",
              "    </tr>\n",
              "  </thead>\n",
              "  <tbody>\n",
              "    <tr>\n",
              "      <th>0</th>\n",
              "      <td>221900.000</td>\n",
              "      <td>3</td>\n",
              "      <td>1.000</td>\n",
              "      <td>5650</td>\n",
              "      <td>1.000</td>\n",
              "      <td>0</td>\n",
              "      <td>3</td>\n",
              "      <td>7</td>\n",
              "      <td>0</td>\n",
              "      <td>1955</td>\n",
              "      <td>0</td>\n",
              "      <td>1340</td>\n",
              "      <td>5650</td>\n",
              "      <td>1</td>\n",
              "      <td>0</td>\n",
              "      <td>2360</td>\n",
              "    </tr>\n",
              "    <tr>\n",
              "      <th>1</th>\n",
              "      <td>538000.000</td>\n",
              "      <td>3</td>\n",
              "      <td>2.250</td>\n",
              "      <td>7242</td>\n",
              "      <td>2.000</td>\n",
              "      <td>0</td>\n",
              "      <td>3</td>\n",
              "      <td>7</td>\n",
              "      <td>400</td>\n",
              "      <td>1951</td>\n",
              "      <td>1991</td>\n",
              "      <td>1690</td>\n",
              "      <td>7639</td>\n",
              "      <td>1</td>\n",
              "      <td>0</td>\n",
              "      <td>4740</td>\n",
              "    </tr>\n",
              "    <tr>\n",
              "      <th>2</th>\n",
              "      <td>180000.000</td>\n",
              "      <td>2</td>\n",
              "      <td>1.000</td>\n",
              "      <td>10000</td>\n",
              "      <td>1.000</td>\n",
              "      <td>0</td>\n",
              "      <td>3</td>\n",
              "      <td>6</td>\n",
              "      <td>0</td>\n",
              "      <td>1933</td>\n",
              "      <td>0</td>\n",
              "      <td>2720</td>\n",
              "      <td>8062</td>\n",
              "      <td>1</td>\n",
              "      <td>0</td>\n",
              "      <td>1540</td>\n",
              "    </tr>\n",
              "    <tr>\n",
              "      <th>3</th>\n",
              "      <td>604000.000</td>\n",
              "      <td>4</td>\n",
              "      <td>3.000</td>\n",
              "      <td>5000</td>\n",
              "      <td>1.000</td>\n",
              "      <td>0</td>\n",
              "      <td>5</td>\n",
              "      <td>7</td>\n",
              "      <td>910</td>\n",
              "      <td>1965</td>\n",
              "      <td>0</td>\n",
              "      <td>1360</td>\n",
              "      <td>5000</td>\n",
              "      <td>1</td>\n",
              "      <td>0</td>\n",
              "      <td>3010</td>\n",
              "    </tr>\n",
              "    <tr>\n",
              "      <th>4</th>\n",
              "      <td>510000.000</td>\n",
              "      <td>3</td>\n",
              "      <td>2.000</td>\n",
              "      <td>8080</td>\n",
              "      <td>1.000</td>\n",
              "      <td>0</td>\n",
              "      <td>3</td>\n",
              "      <td>8</td>\n",
              "      <td>0</td>\n",
              "      <td>1987</td>\n",
              "      <td>0</td>\n",
              "      <td>1800</td>\n",
              "      <td>7503</td>\n",
              "      <td>1</td>\n",
              "      <td>0</td>\n",
              "      <td>3360</td>\n",
              "    </tr>\n",
              "  </tbody>\n",
              "</table>\n",
              "</div>"
            ],
            "text/plain": [
              "       price  bedrooms  bathrooms  ...  waterfront_0  waterfront_1 sqft_abv_living\n",
              "0 221900.000         3      1.000  ...             1             0            2360\n",
              "1 538000.000         3      2.250  ...             1             0            4740\n",
              "2 180000.000         2      1.000  ...             1             0            1540\n",
              "3 604000.000         4      3.000  ...             1             0            3010\n",
              "4 510000.000         3      2.000  ...             1             0            3360\n",
              "\n",
              "[5 rows x 16 columns]"
            ]
          },
          "metadata": {
            "tags": []
          },
          "execution_count": 208
        }
      ]
    },
    {
      "cell_type": "code",
      "metadata": {
        "id": "N42qHBgEu_vv",
        "colab_type": "code",
        "colab": {
          "base_uri": "https://localhost:8080/",
          "height": 374
        },
        "outputId": "04ae832f-68bf-43b9-bbec-133c7506eee9"
      },
      "source": [
        "# getting information about the dataset\n",
        "# \n",
        "df_3.info()"
      ],
      "execution_count": 209,
      "outputs": [
        {
          "output_type": "stream",
          "text": [
            "<class 'pandas.core.frame.DataFrame'>\n",
            "Int64Index: 21584 entries, 0 to 21612\n",
            "Data columns (total 16 columns):\n",
            "price              21584 non-null float64\n",
            "bedrooms           21584 non-null int64\n",
            "bathrooms          21584 non-null float64\n",
            "sqft_lot           21584 non-null int64\n",
            "floors             21584 non-null float64\n",
            "view               21584 non-null category\n",
            "condition          21584 non-null category\n",
            "grade              21584 non-null category\n",
            "sqft_basement      21584 non-null int64\n",
            "yr_built           21584 non-null int64\n",
            "yr_renovated       21584 non-null int64\n",
            "sqft_living15      21584 non-null int64\n",
            "sqft_lot15         21584 non-null int64\n",
            "waterfront_0       21584 non-null uint8\n",
            "waterfront_1       21584 non-null uint8\n",
            "sqft_abv_living    21584 non-null int64\n",
            "dtypes: category(3), float64(3), int64(8), uint8(2)\n",
            "memory usage: 2.1 MB\n"
          ],
          "name": "stdout"
        }
      ]
    },
    {
      "cell_type": "code",
      "metadata": {
        "id": "9SqW_98vxqDq",
        "colab_type": "code",
        "colab": {
          "base_uri": "https://localhost:8080/",
          "height": 374
        },
        "outputId": "1b4e5e26-08a9-479c-b542-b1593c31e9bf"
      },
      "source": [
        "# df_3['floors'] = df_3['floors'].apply(pd.to_numeric) \n",
        "\n",
        "# df_3['floors'] = df.astype({'floors': float})\n",
        "\n",
        "df_3.floors = df.floors.astype(int)\n",
        "# \n",
        "df_3.info()"
      ],
      "execution_count": 210,
      "outputs": [
        {
          "output_type": "stream",
          "text": [
            "<class 'pandas.core.frame.DataFrame'>\n",
            "Int64Index: 21584 entries, 0 to 21612\n",
            "Data columns (total 16 columns):\n",
            "price              21584 non-null float64\n",
            "bedrooms           21584 non-null int64\n",
            "bathrooms          21584 non-null float64\n",
            "sqft_lot           21584 non-null int64\n",
            "floors             21584 non-null int64\n",
            "view               21584 non-null category\n",
            "condition          21584 non-null category\n",
            "grade              21584 non-null category\n",
            "sqft_basement      21584 non-null int64\n",
            "yr_built           21584 non-null int64\n",
            "yr_renovated       21584 non-null int64\n",
            "sqft_living15      21584 non-null int64\n",
            "sqft_lot15         21584 non-null int64\n",
            "waterfront_0       21584 non-null uint8\n",
            "waterfront_1       21584 non-null uint8\n",
            "sqft_abv_living    21584 non-null int64\n",
            "dtypes: category(3), float64(2), int64(9), uint8(2)\n",
            "memory usage: 2.1 MB\n"
          ],
          "name": "stdout"
        }
      ]
    },
    {
      "cell_type": "code",
      "metadata": {
        "id": "i95RTVzEfabs",
        "colab_type": "code",
        "colab": {}
      },
      "source": [
        "#Separating training and testing datasets using numerical data\n",
        "C = df_3.drop(['condition', 'grade','waterfront_0','waterfront_1','view'], axis=1) \n",
        "y = df_3['price']"
      ],
      "execution_count": 0,
      "outputs": []
    },
    {
      "cell_type": "code",
      "metadata": {
        "id": "QSFhxvYQupX6",
        "colab_type": "code",
        "outputId": "2d9c7edf-729c-41d2-db7d-ca57d6174275",
        "colab": {
          "base_uri": "https://localhost:8080/",
          "height": 476
        }
      },
      "source": [
        "from sklearn.model_selection import train_test_split\n",
        "C_train, C_test, y_train, y_test = train_test_split(C,y, test_size=0.2, random_state=24)\n",
        "# importing python package statsmodels for Quantile Regression\n",
        "#\n",
        "import statsmodels.formula.api as smf\n",
        "# Finding the regression coefficients for the conditioned median, 0.5 quantile\n",
        "#\n",
        "mod = smf.quantreg('y ~ C', df_3)\n",
        "res = mod.fit(q=.8)\n",
        "  # Then print out the summary of our model\n",
        "  #\n",
        "print(res.summary())"
      ],
      "execution_count": 212,
      "outputs": [
        {
          "output_type": "stream",
          "text": [
            "                         QuantReg Regression Results                          \n",
            "==============================================================================\n",
            "Dep. Variable:                      y   Pseudo R-squared:                1.000\n",
            "Model:                       QuantReg   Bandwidth:                   5.219e-07\n",
            "Method:                 Least Squares   Sparsity:                    1.020e-05\n",
            "Date:                Thu, 13 Feb 2020   No. Observations:                21584\n",
            "Time:                        11:45:38   Df Residuals:                    21572\n",
            "                                        Df Model:                           11\n",
            "==============================================================================\n",
            "                 coef    std err          t      P>|t|      [0.025      0.975]\n",
            "------------------------------------------------------------------------------\n",
            "Intercept   4.708e-08   9.67e-10     48.703      0.000    4.52e-08     4.9e-08\n",
            "C[0]           1.0000   1.73e-13   5.78e+12      0.000       1.000       1.000\n",
            "C[1]        1.036e-06   4.56e-08     22.738      0.000    9.47e-07    1.13e-06\n",
            "C[2]       -1.581e-06   7.99e-08    -19.802      0.000   -1.74e-06   -1.42e-06\n",
            "C[3]       -2.527e-10   1.88e-12   -134.743      0.000   -2.56e-10   -2.49e-10\n",
            "C[4]       -2.375e-06   1.04e-07    -22.855      0.000   -2.58e-06   -2.17e-06\n",
            "C[5]        5.627e-10   9.06e-11      6.210      0.000    3.85e-10     7.4e-10\n",
            "C[6]        1.408e-09    7.9e-11     17.828      0.000    1.25e-09    1.56e-09\n",
            "C[7]       -5.481e-10   1.02e-10     -5.385      0.000   -7.48e-10   -3.49e-10\n",
            "C[8]       -6.626e-10   8.62e-11     -7.686      0.000   -8.32e-10   -4.94e-10\n",
            "C[9]        6.972e-10   2.03e-12    342.672      0.000    6.93e-10    7.01e-10\n",
            "C[10]       7.849e-10    4.8e-11     16.364      0.000    6.91e-10    8.79e-10\n",
            "==============================================================================\n",
            "\n",
            "The condition number is large, 6.16e+07. This might indicate that there are\n",
            "strong multicollinearity or other numerical problems.\n"
          ],
          "name": "stdout"
        }
      ]
    },
    {
      "cell_type": "code",
      "metadata": {
        "id": "V5NpXgnZuqDq",
        "colab_type": "code",
        "colab": {
          "base_uri": "https://localhost:8080/",
          "height": 419
        },
        "outputId": "a80215f0-881a-4d5b-82b9-b9381aa155a8"
      },
      "source": [
        "# Making Predictions\n",
        "# \n",
        "pred = res.predict(C)\n",
        "# To compare the actual output values for X_test with the predicted values\n",
        "# \n",
        "B1 = pd.DataFrame({'Actual': y, 'Predicted': pred})\n",
        "B1"
      ],
      "execution_count": 213,
      "outputs": [
        {
          "output_type": "execute_result",
          "data": {
            "text/html": [
              "<div>\n",
              "<style scoped>\n",
              "    .dataframe tbody tr th:only-of-type {\n",
              "        vertical-align: middle;\n",
              "    }\n",
              "\n",
              "    .dataframe tbody tr th {\n",
              "        vertical-align: top;\n",
              "    }\n",
              "\n",
              "    .dataframe thead th {\n",
              "        text-align: right;\n",
              "    }\n",
              "</style>\n",
              "<table border=\"1\" class=\"dataframe\">\n",
              "  <thead>\n",
              "    <tr style=\"text-align: right;\">\n",
              "      <th></th>\n",
              "      <th>Actual</th>\n",
              "      <th>Predicted</th>\n",
              "    </tr>\n",
              "  </thead>\n",
              "  <tbody>\n",
              "    <tr>\n",
              "      <th>0</th>\n",
              "      <td>221900.000</td>\n",
              "      <td>221900.000</td>\n",
              "    </tr>\n",
              "    <tr>\n",
              "      <th>1</th>\n",
              "      <td>538000.000</td>\n",
              "      <td>538000.000</td>\n",
              "    </tr>\n",
              "    <tr>\n",
              "      <th>2</th>\n",
              "      <td>180000.000</td>\n",
              "      <td>180000.000</td>\n",
              "    </tr>\n",
              "    <tr>\n",
              "      <th>3</th>\n",
              "      <td>604000.000</td>\n",
              "      <td>604000.000</td>\n",
              "    </tr>\n",
              "    <tr>\n",
              "      <th>4</th>\n",
              "      <td>510000.000</td>\n",
              "      <td>510000.000</td>\n",
              "    </tr>\n",
              "    <tr>\n",
              "      <th>...</th>\n",
              "      <td>...</td>\n",
              "      <td>...</td>\n",
              "    </tr>\n",
              "    <tr>\n",
              "      <th>21608</th>\n",
              "      <td>360000.000</td>\n",
              "      <td>360000.000</td>\n",
              "    </tr>\n",
              "    <tr>\n",
              "      <th>21609</th>\n",
              "      <td>400000.000</td>\n",
              "      <td>400000.000</td>\n",
              "    </tr>\n",
              "    <tr>\n",
              "      <th>21610</th>\n",
              "      <td>402101.000</td>\n",
              "      <td>402101.000</td>\n",
              "    </tr>\n",
              "    <tr>\n",
              "      <th>21611</th>\n",
              "      <td>400000.000</td>\n",
              "      <td>400000.000</td>\n",
              "    </tr>\n",
              "    <tr>\n",
              "      <th>21612</th>\n",
              "      <td>325000.000</td>\n",
              "      <td>325000.000</td>\n",
              "    </tr>\n",
              "  </tbody>\n",
              "</table>\n",
              "<p>21584 rows × 2 columns</p>\n",
              "</div>"
            ],
            "text/plain": [
              "          Actual  Predicted\n",
              "0     221900.000 221900.000\n",
              "1     538000.000 538000.000\n",
              "2     180000.000 180000.000\n",
              "3     604000.000 604000.000\n",
              "4     510000.000 510000.000\n",
              "...          ...        ...\n",
              "21608 360000.000 360000.000\n",
              "21609 400000.000 400000.000\n",
              "21610 402101.000 402101.000\n",
              "21611 400000.000 400000.000\n",
              "21612 325000.000 325000.000\n",
              "\n",
              "[21584 rows x 2 columns]"
            ]
          },
          "metadata": {
            "tags": []
          },
          "execution_count": 213
        }
      ]
    },
    {
      "cell_type": "code",
      "metadata": {
        "id": "LsJeZwRw5VZu",
        "colab_type": "code",
        "colab": {
          "base_uri": "https://localhost:8080/",
          "height": 476
        },
        "outputId": "e1860c87-6309-4902-db5b-4c98ab527dc7"
      },
      "source": [
        "#Using Quantile 0.2,\n",
        "from sklearn.model_selection import train_test_split\n",
        "C_train, C_test, y_train, y_test = train_test_split(C,y, test_size=0.2, random_state=24)\n",
        "# importing python package statsmodels for Quantile Regression\n",
        "#\n",
        "import statsmodels.formula.api as smf\n",
        "# Finding the regression coefficients for the conditioned median, 0.5 quantile\n",
        "#\n",
        "mod = smf.quantreg('y ~ C', df_3)\n",
        "res = mod.fit(q=.2)\n",
        "  # Then print out the summary of our model\n",
        "  #\n",
        "print(res.summary())"
      ],
      "execution_count": 214,
      "outputs": [
        {
          "output_type": "stream",
          "text": [
            "                         QuantReg Regression Results                          \n",
            "==============================================================================\n",
            "Dep. Variable:                      y   Pseudo R-squared:                1.000\n",
            "Model:                       QuantReg   Bandwidth:                   2.743e-07\n",
            "Method:                 Least Squares   Sparsity:                    4.353e-06\n",
            "Date:                Thu, 13 Feb 2020   No. Observations:                21584\n",
            "Time:                        11:45:38   Df Residuals:                    21572\n",
            "                                        Df Model:                           11\n",
            "==============================================================================\n",
            "                 coef    std err          t      P>|t|      [0.025      0.975]\n",
            "------------------------------------------------------------------------------\n",
            "Intercept   2.651e-08   4.04e-10     65.612      0.000    2.57e-08    2.73e-08\n",
            "C[0]           1.0000   6.09e-14   1.64e+13      0.000       1.000       1.000\n",
            "C[1]        1.572e-07   2.51e-08      6.260      0.000    1.08e-07    2.06e-07\n",
            "C[2]       -3.742e-06   3.79e-08    -98.658      0.000   -3.82e-06   -3.67e-06\n",
            "C[3]       -1.688e-10   3.86e-13   -437.502      0.000    -1.7e-10   -1.68e-10\n",
            "C[4]        2.806e-06    4.4e-08     63.710      0.000    2.72e-06    2.89e-06\n",
            "C[5]        2.363e-09   5.09e-11     46.454      0.000    2.26e-09    2.46e-09\n",
            "C[6]       -6.626e-10   4.58e-11    -14.465      0.000   -7.52e-10   -5.73e-10\n",
            "C[7]        1.084e-09    5.1e-11     21.277      0.000    9.84e-10    1.18e-09\n",
            "C[8]        3.861e-10   4.06e-11      9.512      0.000    3.07e-10    4.66e-10\n",
            "C[9]        2.672e-10   1.21e-12    220.423      0.000    2.65e-10     2.7e-10\n",
            "C[10]       9.118e-10   2.37e-11     38.504      0.000    8.65e-10    9.58e-10\n",
            "==============================================================================\n",
            "\n",
            "The condition number is large, 6.16e+07. This might indicate that there are\n",
            "strong multicollinearity or other numerical problems.\n"
          ],
          "name": "stdout"
        }
      ]
    },
    {
      "cell_type": "code",
      "metadata": {
        "id": "rhTLuShM5bbe",
        "colab_type": "code",
        "colab": {
          "base_uri": "https://localhost:8080/",
          "height": 34
        },
        "outputId": "3f800116-2332-4920-a700-e5010cea6a0a"
      },
      "source": [
        "from sklearn.metrics import r2_score\n",
        "u = r2_score(y, pred)\n",
        "u"
      ],
      "execution_count": 215,
      "outputs": [
        {
          "output_type": "execute_result",
          "data": {
            "text/plain": [
              "1.0"
            ]
          },
          "metadata": {
            "tags": []
          },
          "execution_count": 215
        }
      ]
    },
    {
      "cell_type": "markdown",
      "metadata": {
        "id": "Yua7kdVGBqpt",
        "colab_type": "text"
      },
      "source": [
        "### **RIDGE REGRESSION**\n",
        "\n",
        "Regularization is the process of penalizing coefficients of variables either by removing them and or reducing their impact. \n",
        "Ridge regression reduces the effect of problematic variables close to zero but never fully removes them. "
      ]
    },
    {
      "cell_type": "markdown",
      "metadata": {
        "id": "3cyQ216N51pR",
        "colab_type": "text"
      },
      "source": [
        ">  In order to create our ridge model we need to first determine the most appropriate value for the l2 regularization. L2 is the name of the hyperparameter that is used in ridge regression. Determining the value of a hyperparameter requires the use of a grid. \n",
        "\n",
        "> In the code below, we first create our ridge model and indicate normalization in order to get better estimates. Next we setup the grid that we will use. The search object has several arguments within it. Alpha is hyperparameter we are trying to set. The log space is the range of values we want to test. \n",
        "\n",
        "> Are metric is the mean squared error. Refit set true means to adjust the parameters while modeling and cv is the number of folds to develop for the cross-validation."
      ]
    },
    {
      "cell_type": "code",
      "metadata": {
        "id": "6_zdylkxYQu9",
        "colab_type": "code",
        "colab": {}
      },
      "source": [
        "# importing the libraries\n",
        "\n",
        "\n",
        "from sklearn.model_selection import GridSearchCV\n",
        "from sklearn.linear_model import Ridge\n",
        "ridge = Ridge(normalize=True)\n",
        "search = GridSearchCV(estimator=ridge,param_grid={'alpha':np.logspace(-5,2,8)},scoring='neg_mean_squared_error',n_jobs=1,refit=True,cv=10)"
      ],
      "execution_count": 0,
      "outputs": []
    },
    {
      "cell_type": "code",
      "metadata": {
        "id": "Z7Pdz87QE1fC",
        "colab_type": "code",
        "outputId": "9d25fbee-4190-4ea7-8f45-2aab5a03680f",
        "colab": {
          "base_uri": "https://localhost:8080/",
          "height": 102
        }
      },
      "source": [
        "df.columns"
      ],
      "execution_count": 217,
      "outputs": [
        {
          "output_type": "execute_result",
          "data": {
            "text/plain": [
              "Index(['id', 'price', 'bedrooms', 'bathrooms', 'sqft_living', 'sqft_lot',\n",
              "       'floors', 'view', 'condition', 'grade', 'sqft_above', 'sqft_basement',\n",
              "       'yr_built', 'yr_renovated', 'zipcode', 'lat', 'long', 'sqft_living15',\n",
              "       'sqft_lot15', 'waterfront_0', 'waterfront_1', 'sqft_abv_living'],\n",
              "      dtype='object')"
            ]
          },
          "metadata": {
            "tags": []
          },
          "execution_count": 217
        }
      ]
    },
    {
      "cell_type": "code",
      "metadata": {
        "id": "gRls_rtZEq9i",
        "colab_type": "code",
        "colab": {
          "base_uri": "https://localhost:8080/",
          "height": 34
        },
        "outputId": "70cf0b98-f992-45aa-967b-e34b16a8a77b"
      },
      "source": [
        "# We now use the .fit function to run the model and then use the .best_params_ and\n",
        "#  .best_scores_ function to determine the models strength. \n",
        "# \n",
        "search.fit(X_train,y_train)\n",
        "search.best_params_\n",
        "# {'alpha': 0.001}\n",
        " \n",
        "\n",
        "# The best_params_ tells us what to set alpha too which in this case is 0.001. \n",
        "# The best_score_ tells us what the best possible mean squared error is."
      ],
      "execution_count": 218,
      "outputs": [
        {
          "output_type": "execute_result",
          "data": {
            "text/plain": [
              "{'alpha': 100.0}"
            ]
          },
          "metadata": {
            "tags": []
          },
          "execution_count": 218
        }
      ]
    },
    {
      "cell_type": "code",
      "metadata": {
        "id": "QWX0xnB766t2",
        "colab_type": "code",
        "colab": {
          "base_uri": "https://localhost:8080/",
          "height": 34
        },
        "outputId": "dff0f7ab-ef93-4656-c722-cb9e6fe72bcd"
      },
      "source": [
        "first_model = abs(search.best_score_)\n",
        "print(first_model)"
      ],
      "execution_count": 219,
      "outputs": [
        {
          "output_type": "stream",
          "text": [
            "134197741593.25432\n"
          ],
          "name": "stdout"
        }
      ]
    },
    {
      "cell_type": "markdown",
      "metadata": {
        "id": "--fv4sTi7mUi",
        "colab_type": "text"
      },
      "source": [
        "### **Hyperparameter Tuning**"
      ]
    },
    {
      "cell_type": "code",
      "metadata": {
        "id": "vLwwHx_h7nA0",
        "colab_type": "code",
        "colab": {
          "base_uri": "https://localhost:8080/",
          "height": 34
        },
        "outputId": "7fb30c0e-7617-4c5f-bcd6-a1efbe1acad8"
      },
      "source": [
        "# We can confirm this by fitting our model with the ridge information and finding the\n",
        "# mean squared error below\n",
        "#\n",
        "ridge = Ridge(normalize=True,alpha=0.01)\n",
        "ridge.fit(X_train , y_train)\n",
        "second_model = (mean_squared_error(y_true= y_test,y_pred=ridge.predict(X_test)))\n",
        "print(second_model)"
      ],
      "execution_count": 220,
      "outputs": [
        {
          "output_type": "stream",
          "text": [
            "121524457601.39577\n"
          ],
          "name": "stdout"
        }
      ]
    },
    {
      "cell_type": "code",
      "metadata": {
        "id": "UsBuJPA_7sgQ",
        "colab_type": "code",
        "colab": {
          "base_uri": "https://localhost:8080/",
          "height": 34
        },
        "outputId": "0df9f23a-bf16-4d2a-9180-f45559510b39"
      },
      "source": [
        "# when the value of alpha is 1\n",
        "# \n",
        "ridge = Ridge(normalize=True,alpha=1)\n",
        "ridge.fit(X_train , y_train)\n",
        "third_model = (mean_squared_error(y_true= y_test,y_pred=ridge.predict(X_test)))\n",
        "print(third_model)"
      ],
      "execution_count": 221,
      "outputs": [
        {
          "output_type": "stream",
          "text": [
            "121455307298.08879\n"
          ],
          "name": "stdout"
        }
      ]
    },
    {
      "cell_type": "code",
      "metadata": {
        "id": "0GwJ8ZSU7wyP",
        "colab_type": "code",
        "colab": {
          "base_uri": "https://localhost:8080/",
          "height": 34
        },
        "outputId": "e5cdc608-63e1-41c0-8a42-34b26bf7b889"
      },
      "source": [
        "# when the value of alpha is 10\n",
        "# \n",
        "ridge = Ridge(normalize=True,alpha=10)\n",
        "ridge.fit(X_train , y_train)\n",
        "fourth_model = (mean_squared_error(y_true= y_test,y_pred=ridge.predict(X_test)))\n",
        "print(fourth_model)"
      ],
      "execution_count": 222,
      "outputs": [
        {
          "output_type": "stream",
          "text": [
            "121444746456.28975\n"
          ],
          "name": "stdout"
        }
      ]
    },
    {
      "cell_type": "code",
      "metadata": {
        "id": "abqipmzd71k9",
        "colab_type": "code",
        "colab": {
          "base_uri": "https://localhost:8080/",
          "height": 34
        },
        "outputId": "34c03a0f-10f6-47a9-8a10-4938c38fafed"
      },
      "source": [
        "# when value of alpha is 100\n",
        "# \n",
        "ridge = Ridge(normalize=True,alpha=100)\n",
        "ridge.fit(X_train , y_train)\n",
        "fifth_model = (mean_squared_error(y_true= y_test,y_pred=ridge.predict(X_test)))\n",
        "print(fifth_model)"
      ],
      "execution_count": 223,
      "outputs": [
        {
          "output_type": "stream",
          "text": [
            "121443339689.2057\n"
          ],
          "name": "stdout"
        }
      ]
    },
    {
      "cell_type": "code",
      "metadata": {
        "id": "5nup9wW778yO",
        "colab_type": "code",
        "colab": {
          "base_uri": "https://localhost:8080/",
          "height": 34
        },
        "outputId": "a96acffa-5a19-4aa5-a3e5-c88ab2d7c73c"
      },
      "source": [
        "# when value of alpha is 0.001\n",
        "# \n",
        "ridge = Ridge(normalize=True,alpha=0.001)\n",
        "ridge.fit(X_train , y_train)\n",
        "fifth_model = (mean_squared_error(y_true= y_test,y_pred=ridge.predict(X_test)))\n",
        "print(fifth_model)"
      ],
      "execution_count": 231,
      "outputs": [
        {
          "output_type": "stream",
          "text": [
            "121529673255.10959\n"
          ],
          "name": "stdout"
        }
      ]
    },
    {
      "cell_type": "code",
      "metadata": {
        "id": "qs3deDAj8AGD",
        "colab_type": "code",
        "colab": {
          "base_uri": "https://localhost:8080/",
          "height": 204
        },
        "outputId": "e8f75426-91cf-4e31-ecf1-5e799877c50d"
      },
      "source": [
        "models = ['0.001','0.01', '1', '10', '100']\n",
        "model_names = [first_model,second_model,third_model,fourth_model,fifth_model]\n",
        "con = pd.DataFrame({'Alpha_value': models, 'mean_squared_error': model_names})\n",
        "con"
      ],
      "execution_count": 229,
      "outputs": [
        {
          "output_type": "execute_result",
          "data": {
            "text/html": [
              "<div>\n",
              "<style scoped>\n",
              "    .dataframe tbody tr th:only-of-type {\n",
              "        vertical-align: middle;\n",
              "    }\n",
              "\n",
              "    .dataframe tbody tr th {\n",
              "        vertical-align: top;\n",
              "    }\n",
              "\n",
              "    .dataframe thead th {\n",
              "        text-align: right;\n",
              "    }\n",
              "</style>\n",
              "<table border=\"1\" class=\"dataframe\">\n",
              "  <thead>\n",
              "    <tr style=\"text-align: right;\">\n",
              "      <th></th>\n",
              "      <th>Alpha_value</th>\n",
              "      <th>mean_squared_error</th>\n",
              "    </tr>\n",
              "  </thead>\n",
              "  <tbody>\n",
              "    <tr>\n",
              "      <th>0</th>\n",
              "      <td>0.001</td>\n",
              "      <td>134197741593.254</td>\n",
              "    </tr>\n",
              "    <tr>\n",
              "      <th>1</th>\n",
              "      <td>0.01</td>\n",
              "      <td>121524457601.396</td>\n",
              "    </tr>\n",
              "    <tr>\n",
              "      <th>2</th>\n",
              "      <td>1</td>\n",
              "      <td>121455307298.089</td>\n",
              "    </tr>\n",
              "    <tr>\n",
              "      <th>3</th>\n",
              "      <td>10</td>\n",
              "      <td>121444746456.290</td>\n",
              "    </tr>\n",
              "    <tr>\n",
              "      <th>4</th>\n",
              "      <td>100</td>\n",
              "      <td>121530232418.857</td>\n",
              "    </tr>\n",
              "  </tbody>\n",
              "</table>\n",
              "</div>"
            ],
            "text/plain": [
              "  Alpha_value  mean_squared_error\n",
              "0       0.001    134197741593.254\n",
              "1        0.01    121524457601.396\n",
              "2           1    121455307298.089\n",
              "3          10    121444746456.290\n",
              "4         100    121530232418.857"
            ]
          },
          "metadata": {
            "tags": []
          },
          "execution_count": 229
        }
      ]
    },
    {
      "cell_type": "markdown",
      "metadata": {
        "id": "jYziYh3kZRrh",
        "colab_type": "text"
      },
      "source": [
        "> The lowest RMSE is given by the lowest value of alpha which is .001. "
      ]
    },
    {
      "cell_type": "markdown",
      "metadata": {
        "id": "g7QddsCqa8Ap",
        "colab_type": "text"
      },
      "source": [
        "### **LASSO REGRESSION APPROACH**\n",
        "\n",
        "> Before building the models, let's first scale data. Lasso put constraints on the size of the coefficients associated to each variable. But, this value depends on the magnitude of each variable and it is therefore necessary to center and reduce, or standardize, the variables."
      ]
    },
    {
      "cell_type": "code",
      "metadata": {
        "id": "oLcXErEgEDf_",
        "colab_type": "code",
        "colab": {}
      },
      "source": [
        "# Importing StandardScaler\n",
        "#\n",
        "from sklearn.preprocessing import StandardScaler\n",
        "\n",
        "# Creating features and target matrixes\n",
        "\n",
        "# Scaling data \n",
        "#\n",
        "scaler = StandardScaler()\n",
        "scaler.fit(X_train)\n",
        "X_train = scaler.transform(X_train)"
      ],
      "execution_count": 0,
      "outputs": []
    },
    {
      "cell_type": "markdown",
      "metadata": {
        "id": "XV-SL9DVboBJ",
        "colab_type": "text"
      },
      "source": [
        "> We can basically build the Lasso model. \n",
        "But for now, we will train it on the whole dataset and look at an R-squared score and on the model coefficients. Note, that we are not setting the alpha, it is defined as 1."
      ]
    },
    {
      "cell_type": "code",
      "metadata": {
        "id": "6vKHk61ybl7y",
        "colab_type": "code",
        "colab": {
          "base_uri": "https://localhost:8080/",
          "height": 119
        },
        "outputId": "6fbed87d-fa43-4638-e483-e463f8cd4675"
      },
      "source": [
        "# Importing linear models\n",
        "# \n",
        "from sklearn import linear_model\n",
        "\n",
        "# Creating lasso object\n",
        "# \n",
        "lasso = linear_model.Lasso() \n",
        "\n",
        "# Fitting the models\n",
        "# \n",
        "lasso.fit(X_train, y_train) \n",
        "\n",
        "# Print scores, Mean Squared Error, and coefficients\n",
        "# \n",
        "print(\"lasso score:\", lasso.score(X_test, y_test)) \n",
        "print(\"lasso MSE:\", mean_squared_error(y_test, lasso.predict(X_test))) \n",
        "print(\"lasso coef:\", lasso.coef_) "
      ],
      "execution_count": 233,
      "outputs": [
        {
          "output_type": "stream",
          "text": [
            "lasso score: -134418.50161618035\n",
            "lasso MSE: 1.6323360310886632e+16\n",
            "lasso coef: [  7290.33069435  -2897.15641199  -3468.07953756  -2897.57394138\n",
            "  -2491.67515199    674.97373082  10145.90509545   1874.69206276\n",
            "   6478.21000904   4802.98739133  -4409.02063554   4091.44954735\n",
            "   -295.18651139      0.         -10058.58676142]\n"
          ],
          "name": "stdout"
        }
      ]
    },
    {
      "cell_type": "markdown",
      "metadata": {
        "id": "fRzLYRyQb0fj",
        "colab_type": "text"
      },
      "source": [
        "> Lasso regression should reduce all the coefficient to zeros, but as shown the model does not do that. \n",
        "\n",
        "> We should perform a hyperparameter tuning to improve the accuracy of our model. "
      ]
    },
    {
      "cell_type": "markdown",
      "metadata": {
        "id": "a36hMJkXcvOs",
        "colab_type": "text"
      },
      "source": [
        "#### **Hyperparameter Tuning**\n",
        "\n",
        "> Splitting the data into training and test sets, building Lasso, \n",
        "and choosing the regularization parameter with the help of GridSearch. For that, we have to define the set of parameters for GridSearch. In this case, a model with the highest R-squared score will give us the best parameters.\n"
      ]
    },
    {
      "cell_type": "code",
      "metadata": {
        "id": "fBTCTJZScjCJ",
        "colab_type": "code",
        "colab": {
          "base_uri": "https://localhost:8080/",
          "height": 136
        },
        "outputId": "4a73cb4b-ddd4-4fb3-bae6-47f0284534a4"
      },
      "source": [
        "#splitting data into training and test sets, and choose a set of parameters\n",
        "\n",
        "X_train, X_test, y_train, y_test = train_test_split(C, y, test_size=0.25, random_state=101)\n",
        "parameters = {'alpha': np.concatenate((np.arange(0.1,2,0.1), np.arange(2, 5, 0.5), np.arange(5, 25, 1)))}\n",
        "\n",
        "linear = linear_model.LinearRegression()\n",
        "lasso = linear_model.Lasso() \n",
        "gridlasso = GridSearchCV(lasso, parameters, scoring ='r2') \n",
        "\n",
        "# Fitting models and print the best parameters, R-squared scores, MSE, and coefficients\n",
        "gridlasso.fit(X_train, y_train) \n",
        "linear.fit(X_train, y_train) \n",
        "print(\"lasso best parameters:\", gridlasso.best_params_) \n",
        "print(\"lasso score:\", gridlasso.score(X_test, y_test))\n",
        "print(\"lasso MSE:\", mean_squared_error(y_test, gridlasso.predict(X_test))) \n",
        "print(\"lasso best estimator coef:\", gridlasso.best_estimator_.coef_)\n",
        "print(\"linear coef:\", linear.coef_)"
      ],
      "execution_count": 235,
      "outputs": [
        {
          "output_type": "stream",
          "text": [
            "lasso best parameters: {'alpha': 0.1}\n",
            "lasso score: 1.0\n",
            "lasso MSE: 7.557105349157561e-14\n",
            "lasso best estimator coef: [1. 0. 0. 0. 0. 0. 0. 0. 0. 0. 0.]\n",
            "linear coef: [ 1.00000000e+00  1.96424792e-12 -4.00900785e-13  1.06706565e-17\n",
            " -2.04895893e-12 -6.97682770e-16  3.01910230e-14  1.20503863e-15\n",
            "  5.34673420e-17 -1.22545214e-17 -2.20818279e-15]\n"
          ],
          "name": "stdout"
        }
      ]
    },
    {
      "cell_type": "code",
      "metadata": {
        "id": "ydba0X3TdtR_",
        "colab_type": "code",
        "colab": {
          "base_uri": "https://localhost:8080/",
          "height": 462
        },
        "outputId": "a38eff95-8b68-49b1-da17-953983f8e6d0"
      },
      "source": [
        "# visualizing \n",
        "# Importing library for visualization\n",
        "#\n",
        "import matplotlib.pyplot as plt\n",
        "coefsLasso = [] \n",
        "\n",
        "# Building Lasso for 200 values of alpha and write the coefficients into array\n",
        "# \n",
        "\n",
        "import numpy as np\n",
        "\n",
        "alphasLasso = np.arange (0, 20, 0.1) \n",
        "for i in range(200):\n",
        "    lasso = linear_model.Lasso(alpha=alphasLasso[i])\n",
        "    lasso.fit(X_train, y_train)\n",
        "    coefsLasso.append(lasso.coef_) \n",
        "\n",
        "# Building Lasso coefficient plots\n",
        "# \n",
        "plt.figure(figsize = (16,7))\n",
        "\n",
        "plt.subplot(121)\n",
        "plt.plot(alphasLasso, coefsLasso)\n",
        "plt.title('Lasso coefficients')\n",
        "plt.xlabel('alpha')\n",
        "plt.ylabel('coefs')\n",
        "\n",
        "plt.show()\n"
      ],
      "execution_count": 236,
      "outputs": [
        {
          "output_type": "display_data",
          "data": {
            "image/png": "[encoded data removed]",
            "text/plain": [
              "<Figure size 1152x504 with 1 Axes>"
            ]
          },
          "metadata": {
            "tags": []
          }
        }
      ]
    },
    {
      "cell_type": "markdown",
      "metadata": {
        "id": "WDJcRKcVd1fH",
        "colab_type": "text"
      },
      "source": [
        "> Lasso regression did not give me a good model. THe model accuracy is so bad. The Lasso score is 1.0, which means that the there is an overfitting of the data. \n",
        "\n",
        "> WE shall try a different approach and see which models will be the best for predicting the prices of houses. "
      ]
    },
    {
      "cell_type": "markdown",
      "metadata": {
        "id": "mjxcQcuWeYGc",
        "colab_type": "text"
      },
      "source": [
        "### **ELASTIC NET REGRESSION**\n",
        "\n",
        "\n",
        "> Elastic net, just like ridge and lasso regression, requires normalize data. This argument  is set inside the ElasticNet function. "
      ]
    },
    {
      "cell_type": "code",
      "metadata": {
        "id": "bn4IF_hwFZ8H",
        "colab_type": "code",
        "colab": {}
      },
      "source": [
        "#importing the necessary libraries to use\n",
        "from sklearn.linear_model import ElasticNet"
      ],
      "execution_count": 0,
      "outputs": []
    },
    {
      "cell_type": "code",
      "metadata": {
        "id": "Uogk-N-EgwN5",
        "colab_type": "code",
        "colab": {}
      },
      "source": [
        "# The second thing we need to do is create our grid.\n",
        "# \n",
        "elastic=ElasticNet(normalize=True)\n",
        "search=GridSearchCV(estimator=elastic,param_grid={'alpha':np.logspace(-5,2,8),'l1_ratio':[.2,.4,.6,.8]},scoring='neg_mean_squared_error',n_jobs=1,refit=True,cv=10)"
      ],
      "execution_count": 0,
      "outputs": []
    },
    {
      "cell_type": "code",
      "metadata": {
        "id": "uMJPceIagv9I",
        "colab_type": "code",
        "colab": {
          "base_uri": "https://localhost:8080/",
          "height": 34
        },
        "outputId": "8714d828-11b8-4150-8c23-fb48427a5f0d"
      },
      "source": [
        "# TO GET the best params\n",
        "search.fit(X_train,y_train)\n",
        "search.best_params_\n",
        "abs(search.best_score_)"
      ],
      "execution_count": 241,
      "outputs": [
        {
          "output_type": "execute_result",
          "data": {
            "text/plain": [
              "214571440.79863852"
            ]
          },
          "metadata": {
            "tags": []
          },
          "execution_count": 241
        }
      ]
    },
    {
      "cell_type": "code",
      "metadata": {
        "id": "hUKlX0Oua4Mg",
        "colab_type": "code",
        "colab": {}
      },
      "source": [
        "\n",
        "# The second thing we need to do is create our grid.\n",
        "# \n",
        "elastic=ElasticNet(normalize=True)\n",
        "search=GridSearchCV(estimator=elastic,param_grid={'alpha':np.logspace(-5,2,8),'l1_ratio':[.2,.4,.6,.8]},scoring='neg_mean_squared_error',n_jobs=1,refit=True,cv=10)"
      ],
      "execution_count": 0,
      "outputs": []
    },
    {
      "cell_type": "code",
      "metadata": {
        "id": "9NT_i6Nda2rQ",
        "colab_type": "code",
        "outputId": "5f5a97fb-1aa6-4f17-ea54-3fd7455be95d",
        "colab": {
          "base_uri": "https://localhost:8080/",
          "height": 34
        }
      },
      "source": [
        "#  getting score of the model \n",
        "# \n",
        "elastic=ElasticNet(normalize=True,alpha=0.001,l1_ratio=0.75)\n",
        "elastic.fit(X_train,y_train)\n",
        "elastic_model=elastic.score(X_test,y_test)\n",
        "print(elastic_model)"
      ],
      "execution_count": 243,
      "outputs": [
        {
          "output_type": "stream",
          "text": [
            "0.5208286391698254\n"
          ],
          "name": "stdout"
        }
      ]
    },
    {
      "cell_type": "markdown",
      "metadata": {
        "id": "pmWI5AUzhfMI",
        "colab_type": "text"
      },
      "source": [
        "> Elastic net has a model accuracy of 52%. "
      ]
    },
    {
      "cell_type": "code",
      "metadata": {
        "id": "iddjulvsizVY",
        "colab_type": "code",
        "colab": {}
      },
      "source": [
        "# # Below are the coefficients\n",
        "# \n",
        "coef_dict_baseline = {}\n",
        "for coef, feat in zip(elastic.coef_,X_test.columns):\n",
        "    coef_dict_baseline[feat] = coef\n",
        "coef_dict_baseline\n",
        "\n",
        "# The coefficients are mostly the same. \n",
        "# Notice that occupation was completely removed from the model in the elastic net version. \n",
        "# This means that this values was no good to the algorithm. Traditional regression cannot do this."
      ],
      "execution_count": 0,
      "outputs": []
    },
    {
      "cell_type": "code",
      "metadata": {
        "id": "xFn1m_cNjGWG",
        "colab_type": "code",
        "colab": {}
      },
      "source": [
        "# Building Elastic net coefficient plots\n",
        "\n",
        "plt.figure(figsize = (16,7))\n",
        "\n",
        "plt.subplot(121)\n",
        "plt.plot( elastic.coef_,X_test.columns)\n",
        "plt.title('Lasso coefficients')\n",
        "plt.xlabel('alpha')\n",
        "plt.ylabel('coefs')\n",
        "\n",
        "plt.show()"
      ],
      "execution_count": 0,
      "outputs": []
    },
    {
      "cell_type": "code",
      "metadata": {
        "id": "AcRDlUwYjMDQ",
        "colab_type": "code",
        "colab": {}
      },
      "source": [
        "# Below are the coefficients\n",
        "# \n",
        "coef_dict_baseline = {}\n",
        "for coef, feat in zip(elastic.coef_,X_test.columns):\n",
        "    coef_dict_baseline[feat] = coef\n",
        "coef_dict_baseline\n",
        "\n",
        "# Some coefficients have been reduced to zero and only 6 have coefficients. \n",
        "# Notice that occupation was completely removed from the model in the elastic net version. \n",
        "# This means that this values was no good to the algorithm. Traditional regression cannot do this."
      ],
      "execution_count": 0,
      "outputs": []
    },
    {
      "cell_type": "markdown",
      "metadata": {
        "id": "v0R4DauDimQ2",
        "colab_type": "text"
      },
      "source": [
        "### **FOLLOW UP QUESTIONS**"
      ]
    },
    {
      "cell_type": "markdown",
      "metadata": {
        "id": "OmnujYMRjpdf",
        "colab_type": "text"
      },
      "source": [
        "### Did we have the correct data?\n",
        "\n",
        "NO we did not.\n",
        "\n"
      ]
    },
    {
      "cell_type": "markdown",
      "metadata": {
        "id": "MlyGdZPUkM6F",
        "colab_type": "text"
      },
      "source": [
        "### b). Do we need other data to answer our question?\n",
        "YES! More conclusive features should be included."
      ]
    },
    {
      "cell_type": "markdown",
      "metadata": {
        "id": "SaerT4FdkY1t",
        "colab_type": "text"
      },
      "source": [
        "### **Conclusion**\n",
        "\n",
        "Multiple Linear regression and Lasso regression have the best accuracy hence should be used for prediction. "
      ]
    }
  ]
}